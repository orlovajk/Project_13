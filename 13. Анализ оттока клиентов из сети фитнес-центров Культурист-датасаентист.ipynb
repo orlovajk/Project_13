{
 "cells": [
  {
   "cell_type": "markdown",
   "metadata": {},
   "source": [
    "## Проект \"Основы машинного обучения\""
   ]
  },
  {
   "cell_type": "markdown",
   "metadata": {},
   "source": [
    "**СОДЕРЖАНИЕ ПРОЕКТА**\n",
    "1. [ОПИСАНИЕ ПРОЕКТА](#describ)\n",
    "\n",
    "\n",
    "2. [ШАГ 1.ЗАГРУЗКА ДАННЫХ](#part_1)\n",
    "\n",
    "\n",
    "3. [ШАГ 2.ПРОВЕДЕНИЕ ИССЛЕДОВАТЕЛЬСКОГО АНАЛИЗА ДАННЫХ(EDA)](#part_2)\n",
    "\n",
    "    [Задача 1. Исследование данных на наличие пропусков, изучение средних значений и стандартных отклонений (применение метода describe()).](#1_1)   \n",
    "    [Задача 2. Исследование средних значений признаков в двух группах — тех, кто ушел в отток и тех, кто остался (применение метода groupby()).](#1_2)\n",
    "    [Задача 3. Построение столбчатых гистограмм и распределения признаков для тех, кто ушёл (отток) и тех, кто остался (не попали в отток).](#1_3)\n",
    "    [Задача 4. Построение матрицы корреляций ](#1_4)\n",
    "    \n",
    "    \n",
    "4. [ШАГ 3. ПОСТРОЕНИЕ МОДЕЛИ ПРОГНОЗИРОВАНИЯ ОТТОКА КЛИЕНТОВ (построение модели бинарной классификации клиентов, где целевой признак — факт оттока клиента в следующем месяце:)](#part_3)\n",
    "\n",
    "    [Задача 1. Разбиение данных на обучающую и валидационную выборку функцией train_test_split()](#1)    \n",
    "    [Задача 2. Обучение модели на train-выборке логистической регрессией.](#2)     \n",
    "    [Задача 3. Обучение модели на train-выборке случайным лесом.](#3)    \n",
    "    [Задача 4. Оценка метрики accuracy, precision и recall для обеих моделей на валидационной выборке. Сравнение по ним моделей. Выбор лучшей.](#4)\n",
    "    \n",
    "    \n",
    "5. [ШАГ 4. КЛАСТЕРИЗАЦИЯ КЛИЕНТОВ](#part_4) \n",
    "\n",
    "    [Задача 1. Стандартизация данных.](#5)    \n",
    "    [Задача 2. Построение матрицы расстояний функцией linkage() на стандартизованной матрице признаков и отрисовка дендрограммы.](#6)    \n",
    "    [Задача 3. Обучение модели кластеризации на основании алгоритма K-Means и прогнозирование кластеров клиентов.](#7)    \n",
    "    [Задача 4. Изучение средних значений признаков для кластеров. Можно ли сразу что-то заметить?](#8)    \n",
    "    [Задача 5. Построение распределений признаков для кластеров. Можно ли что-то заметить по ним?](#9)   \n",
    "    [Задача 6. Для каждого полученного кластера расчет доли оттока (методом groupby()). Отличаются ли они по доле оттока? Какие кластеры склонны к оттоку, а какие — надёжны?](#10)    \n",
    "    \n",
    "   \n",
    "6. [ШАГ 5. ВЫВОДЫ И БАЗОВЫЕ РЕКОМЕНДАЦИИ ПО РАБОТЕ С КЛИЕНТАМИ](#part_5)"
   ]
  },
  {
   "cell_type": "markdown",
   "metadata": {},
   "source": [
    "**Описание проекта:** <a id=\"describ\"></a> \n",
    "*Сеть фитнес-центров «Культурист-датасаентист» разрабатывает стратегию взаимодействия с клиентами на основе аналитических данных. Распространённая проблема фитнес-клубов и других сервисов — отток клиентов. Как понять, что клиент больше не с вами? Можно записать в отток тех, кто попросил закрыть договор или удалил аккаунт. Однако клиенты не всегда уходят демонстративно: чаще перестают пользоваться сервисом тихо. Индикаторы оттока зависят от специфики отрасли. Когда пользователь редко, но стабильно закупается в интернет-магазине — не похоже, что он «отвалился». А вот если две недели не заходит на канал с ежедневно обновляемым контентом, дела плохи: подписчик заскучал и, кажется, оставил вас. Для фитнес-центра можно считать, что клиент попал в отток, если за последний месяц ни разу не посетил спортзал. Конечно, не исключено, что он уехал на Бали и по приезде обязательно продолжит ходить на фитнес. Однако чаще бывает наоборот. Если клиент начал новую жизнь с понедельника, немного походил в спортзал, а потом пропал — скорее всего, он не вернётся. Чтобы бороться с оттоком, отдел по работе с клиентами «Культуриста-датасаентиста» перевёл в электронный вид множество клиентских анкет.* \n",
    "\n",
    "**Цель исследования:** *провести анализ и подготовить план действий по удержанию клиентов:*.\n",
    "\n",
    "**Задачи исследования:**\n",
    "* научиться прогнозировать вероятность оттока (на уровне следующего месяца) для каждого клиента;\n",
    "* сформировать типичные портреты клиентов: выделить несколько наиболее ярких групп и охарактеризовать их основные свойства;\n",
    "* проанализировать основные признаки, наиболее сильно влияющие на отток;\n",
    "* сформулировать основные выводы и разработать рекомендации по повышению качества работы с клиентами: \n",
    "* 1) выделить целевые группы клиентов;\n",
    "* 2) предложить меры по снижению оттока;\n",
    "* 3) определить другие особенности взаимодействия с клиентами.\n",
    "\n",
    "**Структура данных:** \n",
    "\n",
    "**Данные клиента за предыдущий до проверки факта оттока месяц:**\n",
    "\n",
    "* 'gender' — пол;\n",
    "* 'Near_Location' — проживание или работа в районе, где находится фитнес-центр;\n",
    "* 'Partner' — сотрудник компании-партнёра клуба (сотрудничество с компаниями, чьи сотрудники могут получать скидки на абонемент — в таком случае фитнес-центр хранит информацию о работодателе клиента);\n",
    "* Promo_friends — факт первоначальной записи в рамках акции «приведи друга» (использовал промо-код от знакомого при оплате первого абонемента);\n",
    "* 'Phone' — наличие контактного телефона;\n",
    "* 'Age' — возраст;\n",
    "* 'Lifetime' — время с момента первого обращения в фитнес-центр (в месяцах).\n",
    "\n",
    "**Информация на основе журнала посещений, покупок и информация о текущем статусе абонемента клиента:**\n",
    "\n",
    "* 'Contract_period' — длительность текущего действующего абонемента (месяц, 6 месяцев, год);\n",
    "* 'Month_to_end_contract' — срок до окончания текущего действующего абонемента (в месяцах);\n",
    "* 'Group_visits' — факт посещения групповых занятий;\n",
    "* 'Avg_class_frequency_total' — средняя частота посещений в неделю за все время с начала действия абонемента;\n",
    "* 'Avg_class_frequency_current_month' — средняя частота посещений в неделю за предыдущий месяц;\n",
    "* 'Avg_additional_charges_total' — суммарная выручка от других услуг фитнес-центра: кафе, спорттовары, косметический и массажный салон.\n",
    "* 'Churn' — факт оттока в текущем месяце."
   ]
  },
  {
   "cell_type": "markdown",
   "metadata": {},
   "source": [
    "### ШАГ 1. ЗАГРУЗКА ДАННЫХ\n",
    "<a id=\"part_1\"></a> "
   ]
  },
  {
   "cell_type": "code",
   "execution_count": 1,
   "metadata": {},
   "outputs": [],
   "source": [
    "import pandas as pd\n",
    "from matplotlib import pyplot as plt\n",
    "import seaborn as sns\n",
    "import warnings\n",
    "warnings.filterwarnings('ignore')"
   ]
  },
  {
   "cell_type": "code",
   "execution_count": 2,
   "metadata": {},
   "outputs": [
    {
     "name": "stdout",
     "output_type": "stream",
     "text": [
      "(4000, 14)\n"
     ]
    },
    {
     "data": {
      "text/html": [
       "<div>\n",
       "<style scoped>\n",
       "    .dataframe tbody tr th:only-of-type {\n",
       "        vertical-align: middle;\n",
       "    }\n",
       "\n",
       "    .dataframe tbody tr th {\n",
       "        vertical-align: top;\n",
       "    }\n",
       "\n",
       "    .dataframe thead th {\n",
       "        text-align: right;\n",
       "    }\n",
       "</style>\n",
       "<table border=\"1\" class=\"dataframe\">\n",
       "  <thead>\n",
       "    <tr style=\"text-align: right;\">\n",
       "      <th></th>\n",
       "      <th>gender</th>\n",
       "      <th>Near_Location</th>\n",
       "      <th>Partner</th>\n",
       "      <th>Promo_friends</th>\n",
       "      <th>Phone</th>\n",
       "      <th>Contract_period</th>\n",
       "      <th>Group_visits</th>\n",
       "      <th>Age</th>\n",
       "      <th>Avg_additional_charges_total</th>\n",
       "      <th>Month_to_end_contract</th>\n",
       "      <th>Lifetime</th>\n",
       "      <th>Avg_class_frequency_total</th>\n",
       "      <th>Avg_class_frequency_current_month</th>\n",
       "      <th>Churn</th>\n",
       "    </tr>\n",
       "  </thead>\n",
       "  <tbody>\n",
       "    <tr>\n",
       "      <th>0</th>\n",
       "      <td>1</td>\n",
       "      <td>1</td>\n",
       "      <td>1</td>\n",
       "      <td>1</td>\n",
       "      <td>0</td>\n",
       "      <td>6</td>\n",
       "      <td>1</td>\n",
       "      <td>29</td>\n",
       "      <td>14.227470</td>\n",
       "      <td>5.0</td>\n",
       "      <td>3</td>\n",
       "      <td>0.020398</td>\n",
       "      <td>0.000000</td>\n",
       "      <td>0</td>\n",
       "    </tr>\n",
       "    <tr>\n",
       "      <th>1</th>\n",
       "      <td>0</td>\n",
       "      <td>1</td>\n",
       "      <td>0</td>\n",
       "      <td>0</td>\n",
       "      <td>1</td>\n",
       "      <td>12</td>\n",
       "      <td>1</td>\n",
       "      <td>31</td>\n",
       "      <td>113.202938</td>\n",
       "      <td>12.0</td>\n",
       "      <td>7</td>\n",
       "      <td>1.922936</td>\n",
       "      <td>1.910244</td>\n",
       "      <td>0</td>\n",
       "    </tr>\n",
       "    <tr>\n",
       "      <th>2</th>\n",
       "      <td>0</td>\n",
       "      <td>1</td>\n",
       "      <td>1</td>\n",
       "      <td>0</td>\n",
       "      <td>1</td>\n",
       "      <td>1</td>\n",
       "      <td>0</td>\n",
       "      <td>28</td>\n",
       "      <td>129.448479</td>\n",
       "      <td>1.0</td>\n",
       "      <td>2</td>\n",
       "      <td>1.859098</td>\n",
       "      <td>1.736502</td>\n",
       "      <td>0</td>\n",
       "    </tr>\n",
       "    <tr>\n",
       "      <th>3</th>\n",
       "      <td>0</td>\n",
       "      <td>1</td>\n",
       "      <td>1</td>\n",
       "      <td>1</td>\n",
       "      <td>1</td>\n",
       "      <td>12</td>\n",
       "      <td>1</td>\n",
       "      <td>33</td>\n",
       "      <td>62.669863</td>\n",
       "      <td>12.0</td>\n",
       "      <td>2</td>\n",
       "      <td>3.205633</td>\n",
       "      <td>3.357215</td>\n",
       "      <td>0</td>\n",
       "    </tr>\n",
       "    <tr>\n",
       "      <th>4</th>\n",
       "      <td>1</td>\n",
       "      <td>1</td>\n",
       "      <td>1</td>\n",
       "      <td>1</td>\n",
       "      <td>1</td>\n",
       "      <td>1</td>\n",
       "      <td>0</td>\n",
       "      <td>26</td>\n",
       "      <td>198.362265</td>\n",
       "      <td>1.0</td>\n",
       "      <td>3</td>\n",
       "      <td>1.113884</td>\n",
       "      <td>1.120078</td>\n",
       "      <td>0</td>\n",
       "    </tr>\n",
       "  </tbody>\n",
       "</table>\n",
       "</div>"
      ],
      "text/plain": [
       "   gender  Near_Location  Partner  Promo_friends  Phone  Contract_period  \\\n",
       "0       1              1        1              1      0                6   \n",
       "1       0              1        0              0      1               12   \n",
       "2       0              1        1              0      1                1   \n",
       "3       0              1        1              1      1               12   \n",
       "4       1              1        1              1      1                1   \n",
       "\n",
       "   Group_visits  Age  Avg_additional_charges_total  Month_to_end_contract  \\\n",
       "0             1   29                     14.227470                    5.0   \n",
       "1             1   31                    113.202938                   12.0   \n",
       "2             0   28                    129.448479                    1.0   \n",
       "3             1   33                     62.669863                   12.0   \n",
       "4             0   26                    198.362265                    1.0   \n",
       "\n",
       "   Lifetime  Avg_class_frequency_total  Avg_class_frequency_current_month  \\\n",
       "0         3                   0.020398                           0.000000   \n",
       "1         7                   1.922936                           1.910244   \n",
       "2         2                   1.859098                           1.736502   \n",
       "3         2                   3.205633                           3.357215   \n",
       "4         3                   1.113884                           1.120078   \n",
       "\n",
       "   Churn  \n",
       "0      0  \n",
       "1      0  \n",
       "2      0  \n",
       "3      0  \n",
       "4      0  "
      ]
     },
     "metadata": {},
     "output_type": "display_data"
    }
   ],
   "source": [
    "gym = pd.read_csv('/datasets/gym_churn.csv')\n",
    "print(gym.shape)\n",
    "display(gym.head(5))"
   ]
  },
  {
   "cell_type": "markdown",
   "metadata": {},
   "source": [
    "**Размер датасета 4000 строк на 14 столбцов**"
   ]
  },
  {
   "cell_type": "code",
   "execution_count": 3,
   "metadata": {},
   "outputs": [
    {
     "name": "stdout",
     "output_type": "stream",
     "text": [
      "<class 'pandas.core.frame.DataFrame'>\n",
      "RangeIndex: 4000 entries, 0 to 3999\n",
      "Data columns (total 14 columns):\n",
      " #   Column                             Non-Null Count  Dtype  \n",
      "---  ------                             --------------  -----  \n",
      " 0   gender                             4000 non-null   int64  \n",
      " 1   Near_Location                      4000 non-null   int64  \n",
      " 2   Partner                            4000 non-null   int64  \n",
      " 3   Promo_friends                      4000 non-null   int64  \n",
      " 4   Phone                              4000 non-null   int64  \n",
      " 5   Contract_period                    4000 non-null   int64  \n",
      " 6   Group_visits                       4000 non-null   int64  \n",
      " 7   Age                                4000 non-null   int64  \n",
      " 8   Avg_additional_charges_total       4000 non-null   float64\n",
      " 9   Month_to_end_contract              4000 non-null   float64\n",
      " 10  Lifetime                           4000 non-null   int64  \n",
      " 11  Avg_class_frequency_total          4000 non-null   float64\n",
      " 12  Avg_class_frequency_current_month  4000 non-null   float64\n",
      " 13  Churn                              4000 non-null   int64  \n",
      "dtypes: float64(4), int64(10)\n",
      "memory usage: 437.6 KB\n"
     ]
    }
   ],
   "source": [
    "gym.info()"
   ]
  },
  {
   "cell_type": "markdown",
   "metadata": {},
   "source": [
    "**Пустых значений в датасете нет, все ячейки заполнены. Можно привести названия столбцов к нижнему регистру, а также проверить можно ли поменять тип  у столбца \"Month_to_end_contract\"**\t"
   ]
  },
  {
   "cell_type": "code",
   "execution_count": 4,
   "metadata": {},
   "outputs": [
    {
     "name": "stdout",
     "output_type": "stream",
     "text": [
      "Index(['gender', 'near_location', 'partner', 'promo_friends', 'phone',\n",
      "       'contract_period', 'group_visits', 'age',\n",
      "       'avg_additional_charges_total', 'month_to_end_contract', 'lifetime',\n",
      "       'avg_class_frequency_total', 'avg_class_frequency_current_month',\n",
      "       'churn'],\n",
      "      dtype='object')\n"
     ]
    }
   ],
   "source": [
    "gym.columns = gym.columns.str.lower()\n",
    "print(gym.columns)"
   ]
  },
  {
   "cell_type": "code",
   "execution_count": 5,
   "metadata": {},
   "outputs": [
    {
     "name": "stdout",
     "output_type": "stream",
     "text": [
      "1.0     2207\n",
      "6.0      645\n",
      "12.0     524\n",
      "11.0     181\n",
      "5.0      130\n",
      "10.0      82\n",
      "9.0       73\n",
      "4.0       58\n",
      "8.0       38\n",
      "7.0       25\n",
      "3.0       23\n",
      "2.0       14\n",
      "Name: month_to_end_contract, dtype: int64\n"
     ]
    }
   ],
   "source": [
    "# выведем все значения столбца 'month_to_end_contract'\n",
    "print(gym['month_to_end_contract'].value_counts()) "
   ]
  },
  {
   "cell_type": "code",
   "execution_count": 6,
   "metadata": {},
   "outputs": [
    {
     "name": "stdout",
     "output_type": "stream",
     "text": [
      "<class 'pandas.core.frame.DataFrame'>\n",
      "RangeIndex: 4000 entries, 0 to 3999\n",
      "Data columns (total 14 columns):\n",
      " #   Column                             Non-Null Count  Dtype  \n",
      "---  ------                             --------------  -----  \n",
      " 0   gender                             4000 non-null   int64  \n",
      " 1   near_location                      4000 non-null   int64  \n",
      " 2   partner                            4000 non-null   int64  \n",
      " 3   promo_friends                      4000 non-null   int64  \n",
      " 4   phone                              4000 non-null   int64  \n",
      " 5   contract_period                    4000 non-null   int64  \n",
      " 6   group_visits                       4000 non-null   int64  \n",
      " 7   age                                4000 non-null   int64  \n",
      " 8   avg_additional_charges_total       4000 non-null   float64\n",
      " 9   month_to_end_contract              4000 non-null   int64  \n",
      " 10  lifetime                           4000 non-null   int64  \n",
      " 11  avg_class_frequency_total          4000 non-null   float64\n",
      " 12  avg_class_frequency_current_month  4000 non-null   float64\n",
      " 13  churn                              4000 non-null   int64  \n",
      "dtypes: float64(3), int64(11)\n",
      "memory usage: 437.6 KB\n"
     ]
    }
   ],
   "source": [
    "# изменим тип столбца 'month_to_end_contract' на int\n",
    "gym['month_to_end_contract'] = gym['month_to_end_contract'].astype(int)\n",
    "gym.info()"
   ]
  },
  {
   "cell_type": "markdown",
   "metadata": {},
   "source": [
    "**ВЫВОД:** пустых значений в датасете нет, все ячейки заполнены. Можно привести названия столбцов к нижнему регистру, а также проверить можно ли поменять тип у столбца \"Month_to_end_contract\""
   ]
  },
  {
   "cell_type": "markdown",
   "metadata": {},
   "source": [
    "### ШАГ 2.ПРОВЕДЕНИЕ ИССЛЕДОВАТЕЛЬСКОГО АНАЛИЗА ДАННЫХ (EDA) \n",
    "<a id=\"part_2\"></a> "
   ]
  },
  {
   "cell_type": "markdown",
   "metadata": {},
   "source": [
    "#### Задача 1. Исследование данных на наличие пропусков, изучение средних значений и стандартных отклонений (применение метода describe()).  \n",
    "<a id=\"1_1\"></a> "
   ]
  },
  {
   "cell_type": "code",
   "execution_count": 7,
   "metadata": {},
   "outputs": [
    {
     "data": {
      "text/plain": [
       "0"
      ]
     },
     "execution_count": 7,
     "metadata": {},
     "output_type": "execute_result"
    }
   ],
   "source": [
    "# исследуем данные на дубликаты\n",
    "gym.duplicated().sum()"
   ]
  },
  {
   "cell_type": "markdown",
   "metadata": {},
   "source": [
    "**дубликатов нет**"
   ]
  },
  {
   "cell_type": "code",
   "execution_count": 8,
   "metadata": {},
   "outputs": [
    {
     "data": {
      "text/html": [
       "<div>\n",
       "<style scoped>\n",
       "    .dataframe tbody tr th:only-of-type {\n",
       "        vertical-align: middle;\n",
       "    }\n",
       "\n",
       "    .dataframe tbody tr th {\n",
       "        vertical-align: top;\n",
       "    }\n",
       "\n",
       "    .dataframe thead th {\n",
       "        text-align: right;\n",
       "    }\n",
       "</style>\n",
       "<table border=\"1\" class=\"dataframe\">\n",
       "  <thead>\n",
       "    <tr style=\"text-align: right;\">\n",
       "      <th></th>\n",
       "      <th>gender</th>\n",
       "      <th>near_location</th>\n",
       "      <th>partner</th>\n",
       "      <th>promo_friends</th>\n",
       "      <th>phone</th>\n",
       "      <th>contract_period</th>\n",
       "      <th>group_visits</th>\n",
       "      <th>age</th>\n",
       "      <th>avg_additional_charges_total</th>\n",
       "      <th>month_to_end_contract</th>\n",
       "      <th>lifetime</th>\n",
       "      <th>avg_class_frequency_total</th>\n",
       "      <th>avg_class_frequency_current_month</th>\n",
       "      <th>churn</th>\n",
       "    </tr>\n",
       "  </thead>\n",
       "  <tbody>\n",
       "    <tr>\n",
       "      <th>count</th>\n",
       "      <td>4000.000000</td>\n",
       "      <td>4000.000000</td>\n",
       "      <td>4000.000000</td>\n",
       "      <td>4000.000000</td>\n",
       "      <td>4000.000000</td>\n",
       "      <td>4000.000000</td>\n",
       "      <td>4000.000000</td>\n",
       "      <td>4000.000000</td>\n",
       "      <td>4000.000000</td>\n",
       "      <td>4000.000000</td>\n",
       "      <td>4000.000000</td>\n",
       "      <td>4000.000000</td>\n",
       "      <td>4000.000000</td>\n",
       "      <td>4000.000000</td>\n",
       "    </tr>\n",
       "    <tr>\n",
       "      <th>mean</th>\n",
       "      <td>0.510250</td>\n",
       "      <td>0.845250</td>\n",
       "      <td>0.486750</td>\n",
       "      <td>0.308500</td>\n",
       "      <td>0.903500</td>\n",
       "      <td>4.681250</td>\n",
       "      <td>0.412250</td>\n",
       "      <td>29.184250</td>\n",
       "      <td>146.943728</td>\n",
       "      <td>4.322750</td>\n",
       "      <td>3.724750</td>\n",
       "      <td>1.879020</td>\n",
       "      <td>1.767052</td>\n",
       "      <td>0.265250</td>\n",
       "    </tr>\n",
       "    <tr>\n",
       "      <th>std</th>\n",
       "      <td>0.499957</td>\n",
       "      <td>0.361711</td>\n",
       "      <td>0.499887</td>\n",
       "      <td>0.461932</td>\n",
       "      <td>0.295313</td>\n",
       "      <td>4.549706</td>\n",
       "      <td>0.492301</td>\n",
       "      <td>3.258367</td>\n",
       "      <td>96.355602</td>\n",
       "      <td>4.191297</td>\n",
       "      <td>3.749267</td>\n",
       "      <td>0.972245</td>\n",
       "      <td>1.052906</td>\n",
       "      <td>0.441521</td>\n",
       "    </tr>\n",
       "    <tr>\n",
       "      <th>min</th>\n",
       "      <td>0.000000</td>\n",
       "      <td>0.000000</td>\n",
       "      <td>0.000000</td>\n",
       "      <td>0.000000</td>\n",
       "      <td>0.000000</td>\n",
       "      <td>1.000000</td>\n",
       "      <td>0.000000</td>\n",
       "      <td>18.000000</td>\n",
       "      <td>0.148205</td>\n",
       "      <td>1.000000</td>\n",
       "      <td>0.000000</td>\n",
       "      <td>0.000000</td>\n",
       "      <td>0.000000</td>\n",
       "      <td>0.000000</td>\n",
       "    </tr>\n",
       "    <tr>\n",
       "      <th>25%</th>\n",
       "      <td>0.000000</td>\n",
       "      <td>1.000000</td>\n",
       "      <td>0.000000</td>\n",
       "      <td>0.000000</td>\n",
       "      <td>1.000000</td>\n",
       "      <td>1.000000</td>\n",
       "      <td>0.000000</td>\n",
       "      <td>27.000000</td>\n",
       "      <td>68.868830</td>\n",
       "      <td>1.000000</td>\n",
       "      <td>1.000000</td>\n",
       "      <td>1.180875</td>\n",
       "      <td>0.963003</td>\n",
       "      <td>0.000000</td>\n",
       "    </tr>\n",
       "    <tr>\n",
       "      <th>50%</th>\n",
       "      <td>1.000000</td>\n",
       "      <td>1.000000</td>\n",
       "      <td>0.000000</td>\n",
       "      <td>0.000000</td>\n",
       "      <td>1.000000</td>\n",
       "      <td>1.000000</td>\n",
       "      <td>0.000000</td>\n",
       "      <td>29.000000</td>\n",
       "      <td>136.220159</td>\n",
       "      <td>1.000000</td>\n",
       "      <td>3.000000</td>\n",
       "      <td>1.832768</td>\n",
       "      <td>1.719574</td>\n",
       "      <td>0.000000</td>\n",
       "    </tr>\n",
       "    <tr>\n",
       "      <th>75%</th>\n",
       "      <td>1.000000</td>\n",
       "      <td>1.000000</td>\n",
       "      <td>1.000000</td>\n",
       "      <td>1.000000</td>\n",
       "      <td>1.000000</td>\n",
       "      <td>6.000000</td>\n",
       "      <td>1.000000</td>\n",
       "      <td>31.000000</td>\n",
       "      <td>210.949625</td>\n",
       "      <td>6.000000</td>\n",
       "      <td>5.000000</td>\n",
       "      <td>2.536078</td>\n",
       "      <td>2.510336</td>\n",
       "      <td>1.000000</td>\n",
       "    </tr>\n",
       "    <tr>\n",
       "      <th>max</th>\n",
       "      <td>1.000000</td>\n",
       "      <td>1.000000</td>\n",
       "      <td>1.000000</td>\n",
       "      <td>1.000000</td>\n",
       "      <td>1.000000</td>\n",
       "      <td>12.000000</td>\n",
       "      <td>1.000000</td>\n",
       "      <td>41.000000</td>\n",
       "      <td>552.590740</td>\n",
       "      <td>12.000000</td>\n",
       "      <td>31.000000</td>\n",
       "      <td>6.023668</td>\n",
       "      <td>6.146783</td>\n",
       "      <td>1.000000</td>\n",
       "    </tr>\n",
       "  </tbody>\n",
       "</table>\n",
       "</div>"
      ],
      "text/plain": [
       "            gender  near_location      partner  promo_friends        phone  \\\n",
       "count  4000.000000    4000.000000  4000.000000    4000.000000  4000.000000   \n",
       "mean      0.510250       0.845250     0.486750       0.308500     0.903500   \n",
       "std       0.499957       0.361711     0.499887       0.461932     0.295313   \n",
       "min       0.000000       0.000000     0.000000       0.000000     0.000000   \n",
       "25%       0.000000       1.000000     0.000000       0.000000     1.000000   \n",
       "50%       1.000000       1.000000     0.000000       0.000000     1.000000   \n",
       "75%       1.000000       1.000000     1.000000       1.000000     1.000000   \n",
       "max       1.000000       1.000000     1.000000       1.000000     1.000000   \n",
       "\n",
       "       contract_period  group_visits          age  \\\n",
       "count      4000.000000   4000.000000  4000.000000   \n",
       "mean          4.681250      0.412250    29.184250   \n",
       "std           4.549706      0.492301     3.258367   \n",
       "min           1.000000      0.000000    18.000000   \n",
       "25%           1.000000      0.000000    27.000000   \n",
       "50%           1.000000      0.000000    29.000000   \n",
       "75%           6.000000      1.000000    31.000000   \n",
       "max          12.000000      1.000000    41.000000   \n",
       "\n",
       "       avg_additional_charges_total  month_to_end_contract     lifetime  \\\n",
       "count                   4000.000000            4000.000000  4000.000000   \n",
       "mean                     146.943728               4.322750     3.724750   \n",
       "std                       96.355602               4.191297     3.749267   \n",
       "min                        0.148205               1.000000     0.000000   \n",
       "25%                       68.868830               1.000000     1.000000   \n",
       "50%                      136.220159               1.000000     3.000000   \n",
       "75%                      210.949625               6.000000     5.000000   \n",
       "max                      552.590740              12.000000    31.000000   \n",
       "\n",
       "       avg_class_frequency_total  avg_class_frequency_current_month  \\\n",
       "count                4000.000000                        4000.000000   \n",
       "mean                    1.879020                           1.767052   \n",
       "std                     0.972245                           1.052906   \n",
       "min                     0.000000                           0.000000   \n",
       "25%                     1.180875                           0.963003   \n",
       "50%                     1.832768                           1.719574   \n",
       "75%                     2.536078                           2.510336   \n",
       "max                     6.023668                           6.146783   \n",
       "\n",
       "             churn  \n",
       "count  4000.000000  \n",
       "mean      0.265250  \n",
       "std       0.441521  \n",
       "min       0.000000  \n",
       "25%       0.000000  \n",
       "50%       0.000000  \n",
       "75%       1.000000  \n",
       "max       1.000000  "
      ]
     },
     "metadata": {},
     "output_type": "display_data"
    }
   ],
   "source": [
    "# с помощью метода describe выведем характеристики, дающие представление о выборке в целом\n",
    "display(gym.describe())"
   ]
  },
  {
   "cell_type": "markdown",
   "metadata": {},
   "source": [
    "**Среднее значение и медиана отличаются незначительно, что говорит о небольшом количестве выбросов.**"
   ]
  },
  {
   "cell_type": "markdown",
   "metadata": {},
   "source": [
    "#### Задача 2. Исследование средних значений признаков в двух группах — тех, кто ушел в отток и тех, кто остался (применение метода groupby()).\n",
    "<a id=\"1_2\"></a> "
   ]
  },
  {
   "cell_type": "code",
   "execution_count": 9,
   "metadata": {
    "scrolled": true
   },
   "outputs": [
    {
     "data": {
      "text/html": [
       "<div>\n",
       "<style scoped>\n",
       "    .dataframe tbody tr th:only-of-type {\n",
       "        vertical-align: middle;\n",
       "    }\n",
       "\n",
       "    .dataframe tbody tr th {\n",
       "        vertical-align: top;\n",
       "    }\n",
       "\n",
       "    .dataframe thead th {\n",
       "        text-align: right;\n",
       "    }\n",
       "</style>\n",
       "<table border=\"1\" class=\"dataframe\">\n",
       "  <thead>\n",
       "    <tr style=\"text-align: right;\">\n",
       "      <th></th>\n",
       "      <th>gender</th>\n",
       "      <th>near_location</th>\n",
       "      <th>partner</th>\n",
       "      <th>promo_friends</th>\n",
       "      <th>phone</th>\n",
       "      <th>contract_period</th>\n",
       "      <th>group_visits</th>\n",
       "      <th>age</th>\n",
       "      <th>avg_additional_charges_total</th>\n",
       "      <th>month_to_end_contract</th>\n",
       "      <th>lifetime</th>\n",
       "      <th>avg_class_frequency_total</th>\n",
       "      <th>avg_class_frequency_current_month</th>\n",
       "    </tr>\n",
       "    <tr>\n",
       "      <th>churn</th>\n",
       "      <th></th>\n",
       "      <th></th>\n",
       "      <th></th>\n",
       "      <th></th>\n",
       "      <th></th>\n",
       "      <th></th>\n",
       "      <th></th>\n",
       "      <th></th>\n",
       "      <th></th>\n",
       "      <th></th>\n",
       "      <th></th>\n",
       "      <th></th>\n",
       "      <th></th>\n",
       "    </tr>\n",
       "  </thead>\n",
       "  <tbody>\n",
       "    <tr>\n",
       "      <th>0</th>\n",
       "      <td>0.510037</td>\n",
       "      <td>0.873086</td>\n",
       "      <td>0.534195</td>\n",
       "      <td>0.353522</td>\n",
       "      <td>0.903709</td>\n",
       "      <td>5.747193</td>\n",
       "      <td>0.464103</td>\n",
       "      <td>29.976523</td>\n",
       "      <td>158.445715</td>\n",
       "      <td>5.283089</td>\n",
       "      <td>4.711807</td>\n",
       "      <td>2.024876</td>\n",
       "      <td>2.027882</td>\n",
       "    </tr>\n",
       "    <tr>\n",
       "      <th>1</th>\n",
       "      <td>0.510839</td>\n",
       "      <td>0.768143</td>\n",
       "      <td>0.355325</td>\n",
       "      <td>0.183789</td>\n",
       "      <td>0.902922</td>\n",
       "      <td>1.728558</td>\n",
       "      <td>0.268615</td>\n",
       "      <td>26.989632</td>\n",
       "      <td>115.082899</td>\n",
       "      <td>1.662582</td>\n",
       "      <td>0.990575</td>\n",
       "      <td>1.474995</td>\n",
       "      <td>1.044546</td>\n",
       "    </tr>\n",
       "  </tbody>\n",
       "</table>\n",
       "</div>"
      ],
      "text/plain": [
       "         gender  near_location   partner  promo_friends     phone  \\\n",
       "churn                                                               \n",
       "0      0.510037       0.873086  0.534195       0.353522  0.903709   \n",
       "1      0.510839       0.768143  0.355325       0.183789  0.902922   \n",
       "\n",
       "       contract_period  group_visits        age  avg_additional_charges_total  \\\n",
       "churn                                                                           \n",
       "0             5.747193      0.464103  29.976523                    158.445715   \n",
       "1             1.728558      0.268615  26.989632                    115.082899   \n",
       "\n",
       "       month_to_end_contract  lifetime  avg_class_frequency_total  \\\n",
       "churn                                                               \n",
       "0                   5.283089  4.711807                   2.024876   \n",
       "1                   1.662582  0.990575                   1.474995   \n",
       "\n",
       "       avg_class_frequency_current_month  \n",
       "churn                                     \n",
       "0                               2.027882  \n",
       "1                               1.044546  "
      ]
     },
     "metadata": {},
     "output_type": "display_data"
    }
   ],
   "source": [
    "gym_grouped = gym.groupby(['churn']).mean()\n",
    "display(gym_grouped)"
   ]
  },
  {
   "cell_type": "markdown",
   "metadata": {},
   "source": [
    "**В процессе исследования среднего значения признаков в двух группах (0-остался, 1-ушел) было выявлено их влияние на исход события: \"ушел/остался\": средние значения признаков 'gender', 'near_location', 'phone', 'age', 'avg_additional_charges_total' приблизительно равны, а следовательно данные признаки не имеют влияния на исход события. Что касается признаков 'partner', 'promo_friends', 'group_visits', 'avg_class_frequency_total' они имеют среднюю степень положительного влияния на клиентов (промо акции положительно влияют на заинтересованность клиентов, групповые визиты положительно влияют на социализацию и настроение клиетов, средняя посещаемость говорит о заинтересованности клиентов в занятиях). Наибольшее влияние на исход события оказывают признаки: 'contract_period', 'month_to_end_contract', 'lifetime', 'avg_class_frequency_current_month' - временные показатели (период действия абонемента, время до окончания абонемента, время с момента первого обращения, частота посещений за последний месяц - это все говорит также о заинтересованности клиентов в фитнес-услугах).**"
   ]
  },
  {
   "cell_type": "markdown",
   "metadata": {},
   "source": [
    "#### Задача 3. Построение столбчатых гистограмм и распределения признаков для тех, кто ушёл (отток) и тех, кто остался (не попали в отток).\n",
    "<a id=\"1_3\"></a> "
   ]
  },
  {
   "cell_type": "code",
   "execution_count": 10,
   "metadata": {},
   "outputs": [
    {
     "data": {
      "image/png": "[encoded data removed]",
      "text/plain": [
       "<Figure size 864x576 with 6 Axes>"
      ]
     },
     "metadata": {
      "needs_background": "light"
     },
     "output_type": "display_data"
    }
   ],
   "source": [
    "features = ['gender', 'near_location', 'partner', 'promo_friends', 'phone', 'group_visits']\n",
    "fig, axes = plt.subplots(nrows=2, ncols=3, figsize=(12,8))\n",
    "axes_list = [item for sublist in axes for item in sublist]\n",
    "fig.tight_layout(pad=6.0)\n",
    "fig.suptitle('Распределение признаков с значениями 1-0 (\"булевые значения\")', fontsize=15)\n",
    "for i in features:\n",
    "    ax = axes_list.pop(0)\n",
    "    sns.distplot(gym.query('churn == 1')[i].astype(int), bins=4, ax=ax, kde=False, color='b',label='ушли')\n",
    "    sns.distplot(gym.query('churn == 0')[i].astype(int), bins=4, ax=ax, kde=False, color='r',label='остались')\n",
    "    ax.set_xticks([0,1])\n",
    "    ax.set_xlabel(i, fontsize=12)\n",
    "    ax.set_ylabel('Кол-во записей', fontsize=12)\n",
    "    ax.legend()\n",
    "plt.show()"
   ]
  },
  {
   "cell_type": "markdown",
   "metadata": {},
   "source": [
    "**1. Распределение мужчин и женщин в датасете равное, также это распределение сохранилось и в группах (при этом и мужчин и женщин осталось в три раза больше, чем ушло); 2. Тех, кто живет ближе значительно больше, доля оставшихся при этом еще больше; 3. оставшихся среди участвовавших в партнерской программе больше; 4. участников промо-акции меньше, а вот доля оставшихся выше, чем среди неучаствовавших в акции. 5. оставивших телефон больше, но распределение долей ушел/остался среди оставивших и неоставивших телефон примерно одинаковое; 6. Среди тех, кто ходил на групповые занятия доля, тех кто хочет остаться выше.**"
   ]
  },
  {
   "cell_type": "code",
   "execution_count": 11,
   "metadata": {},
   "outputs": [
    {
     "data": {
      "image/png": "[encoded data removed]",
      "text/plain": [
       "<Figure size 1296x576 with 8 Axes>"
      ]
     },
     "metadata": {
      "needs_background": "light"
     },
     "output_type": "display_data"
    }
   ],
   "source": [
    "features_1 = ['contract_period', 'age', 'avg_additional_charges_total', 'month_to_end_contract', 'lifetime', 'avg_class_frequency_total', 'avg_class_frequency_current_month']\n",
    "fig, axes = plt.subplots(nrows=2, ncols=4, figsize=(18,8))\n",
    "axes_list = [item for sublist in axes for item in sublist]\n",
    "fig.tight_layout(pad=5.0)\n",
    "fig.suptitle('Распределение количественных признаков', fontsize=16)\n",
    "for i in features_1:\n",
    "    ax = axes_list.pop(0)\n",
    "    sns.distplot(gym.query('churn == 1')[i], bins=10, ax=ax, kde=False, color='b',label='ушли')\n",
    "    sns.distplot(gym.query('churn == 0')[i], bins=10, ax=ax, kde=False, color='r',label='остались')\n",
    "    ax.set_xlabel(i, fontsize=11)\n",
    "    ax.set_ylabel('Кол-во записей', fontsize=12)\n",
    "    ax.legend()\n",
    "plt.show()    "
   ]
  },
  {
   "cell_type": "markdown",
   "metadata": {},
   "source": [
    "**1. Чем больше срок абонемента, тем меньше отток. Больше всего отток среди тех, у кого абонемент на месяц; 2. До возраста 25-26 лет большая часть склонна уйти, но дальше чем старше клиенты, тем склонность остаться выше (особенно в возрасте 30-33); 3. доли ушел/остался мало зависят от трат на дополнительные услуги; 4.  Чем больше времени осталось до окончания абонемента, тем желание клиентов продолжать ходить в фитнес сильнее, при этом основной отток идет среди тех, у кого осталься 1 месяц. 5. среди тех, у кого большой \"lifetime\" оттока почти нет, отток идет от тех кто ходил до 2 месяцев; 6. У тех кто ходит до 2 раз в неделю доли оттока примерно одинаковые, для ходящих 3 раза в неделю доля оставших велика , 4-5 раз оттока нет, но таких мало; 7.Чем чаще клиент ходит в клуб за последний месяц, тем меньше отток.**"
   ]
  },
  {
   "cell_type": "markdown",
   "metadata": {},
   "source": [
    "#### Задача 4. Построение матрицы корреляций.\n",
    "<a id=\"1_4\"></a> "
   ]
  },
  {
   "cell_type": "code",
   "execution_count": 12,
   "metadata": {},
   "outputs": [
    {
     "data": {
      "image/png": "[encoded data removed]",
      "text/plain": [
       "<Figure size 864x432 with 2 Axes>"
      ]
     },
     "metadata": {
      "needs_background": "light"
     },
     "output_type": "display_data"
    }
   ],
   "source": [
    "matr = gym.corr()\n",
    "plt.figure(figsize=(12,6))\n",
    "sns.heatmap(matr, annot = True, square=False)\n",
    "plt.title('Матрица корреляций признаков', fontsize = 16)\n",
    "plt.xlabel('Признаки', fontsize = 14) \n",
    "plt.ylabel('Признаки', fontsize = 14)\n",
    "plt.show()"
   ]
  },
  {
   "cell_type": "markdown",
   "metadata": {},
   "source": [
    "**Матрица показывает, что 'partner', 'group_visits', 'promo_friends' - оказывают очень слабое влияние, а 'age' наоборот более сильное. Между 'churn' и признаками видна обратная корреляция - это говорит о том, что чем сильнее признак, тем слабее отток.\n",
    "По коэффициентам корреляции можно увидеть, что все признаки слабо коррелируют: 'gender' и 'phone' - корреляция приближена к 0,   \n",
    "'near_location', 'partner', 'promo_friends', 'group_visits', 'avg_additional_charges_total', 'avg_class_frequency_total' - корреляция в диапазоне -(0,1-0,25) - очень слабая; 'contract_period', 'age', 'month_to_end_contract', 'lifetime', 'avg_class_frequency_current_month'- корреляция в диапазоне -(0,38-0,44) - слабая. Очень сильная (выше 0,95) корреляцию между признаками, которую надо будет учесть в моделях линейной регрессии: 1.'contract_period' и 'month_to_end_contract'- чем больше период абонемента, тем скорее всего больше месяцев осталось; 2.'avg_class_frequency_current_month' и 'avg_class_frequency_total' - здесь очень логично, те кто давно уже ходит с постоянным графиком, тот и за последний месяц ходил скорее всего с таким же графиком.**"
   ]
  },
  {
   "cell_type": "markdown",
   "metadata": {},
   "source": [
    "**ВЫВОД:**\n",
    "* 1. Дубликатов нет, среднее значение и медиана отличаются незначительно, что говорит о небольшом количестве выбросов.\n",
    "* 2. В процессе исследования среднего значения признаков в двух группах (0-остался, 1-ушел) было выявлено их влияние на исход события: \"ушел/остался\": средние значения признаков 'gender', 'near_location', 'phone', 'age', 'avg_additional_charges_total' приблизительно равны, а следовательно данные признаки не имеют влияния на исход события. Что касается признаков 'partner', 'promo_friends', 'group_visits', 'avg_class_frequency_total' они имеют среднюю степень положительного влияния на клиентов (промо акции положительно влияют на заинтересованность клиентов, групповые визиты положительно влияют на социализацию и настроение клиетов, средняя посещаемость говорит о заинтересованности клиентов в занятиях). Наибольшее влияние на исход события оказывают признаки: 'contract_period', 'month_to_end_contract', 'lifetime', 'avg_class_frequency_current_month' - временные показатели (период действия абонемента, время до окончания абонемента, время с момента первого обращения, частота посещений за последний месяц - это все говорит также о заинтересованности клиентов в фитнес-услугах).\n",
    "* 3. Распределение мужчин и женщин в датасете равное, также это распределение сохранилось и в группах (при этом и мужчин и женщин осталось в три раза больше, чем ушло); 2. Тех, кто живет ближе значительно больше, доля оставшихся при этом еще больше; 3. оставшихся среди участвовавших в партнерской программе больше; 4. участников промо-акции меньше, а вот доля оставшихся выше, чем среди неучаствовавших в акции. 5. оставивших телефон больше, но распределение долей ушел/остался среди оставивших и неоставивших телефон примерно одинаковое; 6. Среди тех, кто ходил на групповые занятия доля, тех кто хочет остаться выше.\n",
    "* 4. Чем больше срок абонемента, тем меньше отток. Больше всего отток среди тех, у кого абонемент на месяц; 2. До возраста 25-26 лет большая часть склонна уйти, но дальше чем старше клиенты, тем склонность остаться выше (особенно в возрасте 30-33); 3. доли ушел/остался мало зависят от трат на дополнительные услуги; 4. Чем больше времени осталось до окончания абонемента, тем желание клиентов продолжать ходить в фитнес сильнее, при этом основной отток идет среди тех, у кого осталься 1 месяц. 5. среди тех, у кого большой \"lifetime\" оттока почти нет, отток идет от тех кто ходил до 2 месяцев; 6. У тех кто ходит до 2 раз в неделю доли оттока примерно одинаковые, для ходящих 3 раза в неделю доля оставших велика , 4-5 раз оттока нет, но таких мало; 7.Чем чаще клиент ходит в клуб за последний месяц, тем меньше отток.\n",
    "* 5. Матрица показывает, что 'partner', 'group_visits', 'promo_friends' - оказывают очень слабое влияние, а 'age' наоборот более сильное. Между 'churn' и признаками видна обратная корреляция - это говорит о том, что чем сильнее признак, тем слабее отток. По коэффициентам корреляции можно увидеть, что все признаки слабо коррелируют: 'gender' и 'phone' - корреляция приближена к 0, 'near_location', 'partner', 'promo_friends', 'group_visits', 'avg_additional_charges_total', 'avg_class_frequency_total' - корреляция в диапазоне -(0,1-0,25) - очень слабая; 'contract_period', 'age', 'month_to_end_contract', 'lifetime', 'avg_class_frequency_current_month'- корреляция в диапазоне -(0,38-0,44) - слабая. Очень сильная (выше 0,95) корреляцию между признаками, которую надо будет учесть в моделях линейной регрессии: 1.'contract_period' и 'month_to_end_contract'- чем больше период абонемента, тем скорее всего больше месяцев осталось; 2.'avg_class_frequency_current_month' и 'avg_class_frequency_total' - здесь очень логично, те кто давно уже ходит с постоянным графиком, тот и за последний месяц ходил скорее всего с таким же графиком."
   ]
  },
  {
   "cell_type": "markdown",
   "metadata": {},
   "source": [
    "### ШАГ 3. ПОСТРОЕНИЕ МОДЕЛИ ПРОГНОЗИРОВАНИЯ ОТТОКА КЛИЕНТОВ (построение модели бинарной классификации клиентов, где целевой признак — факт оттока клиента в следующем месяце:)\n",
    "<a id=\"part_3\"></a> "
   ]
  },
  {
   "cell_type": "code",
   "execution_count": 13,
   "metadata": {},
   "outputs": [],
   "source": [
    "from sklearn.preprocessing import StandardScaler\n",
    "from sklearn.model_selection import train_test_split\n",
    "from sklearn.linear_model import LogisticRegression\n",
    "from sklearn.metrics import confusion_matrix, accuracy_score, precision_score, recall_score, silhouette_score\n",
    "from sklearn.ensemble import RandomForestClassifier\n",
    "from scipy.cluster.hierarchy import dendrogram, linkage\n",
    "from sklearn.cluster import KMeans\n",
    "\n",
    "from plotly import graph_objects as go"
   ]
  },
  {
   "cell_type": "markdown",
   "metadata": {},
   "source": [
    "#### Задача 1. Разбиение данных на обучающую и валидационную выборку функцией train_test_split()\n",
    "<a id=\"1\"></a> "
   ]
  },
  {
   "cell_type": "code",
   "execution_count": 14,
   "metadata": {},
   "outputs": [],
   "source": [
    "X = gym.drop('churn', axis=1)\n",
    "y = gym['churn'] "
   ]
  },
  {
   "cell_type": "code",
   "execution_count": 15,
   "metadata": {},
   "outputs": [
    {
     "data": {
      "text/plain": [
       "array([[-1.01511421,  0.4175068 ,  1.03175391,  1.4800097 ,  0.31628211,\n",
       "         1.60502986, -0.84769226,  0.57944798,  0.37161711,  1.59173796,\n",
       "         1.12734972,  1.75580418,  1.61822807],\n",
       "       [-1.01511421,  0.4175068 , -0.96922337, -0.67567125,  0.31628211,\n",
       "        -0.81299073, -0.84769226,  0.27046055, -1.09697378, -0.79568246,\n",
       "         5.88138322, -0.2239674 , -0.01340886],\n",
       "       [ 0.98511083,  0.4175068 ,  1.03175391, -0.67567125,  0.31628211,\n",
       "         1.60502986, -0.84769226, -0.65650171, -1.18374157,  1.83048   ,\n",
       "         0.3350108 , -0.84308456, -0.80541199],\n",
       "       [-1.01511421,  0.4175068 ,  1.03175391,  1.4800097 ,  0.31628211,\n",
       "         0.28610954, -0.84769226, -0.96548914, -0.95158829,  0.39802775,\n",
       "         1.39146269,  0.66771379,  0.64605224],\n",
       "       [-1.01511421,  0.4175068 , -0.96922337, -0.67567125, -3.16173427,\n",
       "        -0.81299073, -0.84769226, -0.03852687,  0.97190435, -0.79568246,\n",
       "         0.07089783, -0.19587934, -0.16038147]])"
      ]
     },
     "metadata": {},
     "output_type": "display_data"
    }
   ],
   "source": [
    "X_train, X_test, y_train, y_test = train_test_split(X, y, test_size=0.2, random_state=0)\n",
    "#создадим объект класса StandardScaler и применим его к обучающей выборке\n",
    "scaler = StandardScaler()\n",
    "X_train_st = scaler.fit_transform(X_train) \n",
    "display(X_train_st[:5])\n",
    "#применяем стандартизацию к матрице признаков для тестовой выборки\n",
    "X_test_st = scaler.transform(X_test) "
   ]
  },
  {
   "cell_type": "markdown",
   "metadata": {},
   "source": [
    "#### Задача 2. Обучение модели на train-выборке логистической регрессией.\n",
    "<a id=\"2\"></a> "
   ]
  },
  {
   "cell_type": "code",
   "execution_count": 16,
   "metadata": {},
   "outputs": [
    {
     "name": "stdout",
     "output_type": "stream",
     "text": [
      "Модель прогнозирования - \"Логистическая регрессия\"\n",
      "Доля правильных ответов: Accuracy = 0.922\n",
      "Точность: precision = 0.854\n",
      "Полнота: recall = 0.828 \n",
      "\n"
     ]
    }
   ],
   "source": [
    "def show_metrics(name, mdl):\n",
    "    mdl.fit(X_train_st, y_train)\n",
    "    y_pred = mdl.predict(X_test_st)\n",
    "    print(\"Модель прогнозирования -\", name)\n",
    "    acc = accuracy_score(y_test, y_pred)\n",
    "    print(\"Доля правильных ответов: Accuracy =\",acc.round(3))\n",
    "    precision = precision_score(y_test, y_pred).round(3)\n",
    "    print(\"Точность: precision =\", precision)\n",
    "    recall = recall_score(y_test, y_pred).round(3)\n",
    "    print(\"Полнота: recall =\", recall, '\\n')\n",
    "\n",
    "model = LogisticRegression(random_state=0)\n",
    "show_metrics('\"Логистическая регрессия\"', model)"
   ]
  },
  {
   "cell_type": "markdown",
   "metadata": {},
   "source": [
    "#### Задача 3. Обучение модели на train-выборке случайным лесом.\n",
    "<a id=\"3\"></a> "
   ]
  },
  {
   "cell_type": "code",
   "execution_count": 17,
   "metadata": {},
   "outputs": [
    {
     "name": "stdout",
     "output_type": "stream",
     "text": [
      "Модель прогнозирования - \"Случайный лес\"\n",
      "Доля правильных ответов: Accuracy = 0.915\n",
      "Точность: precision = 0.839\n",
      "Полнота: recall = 0.813 \n",
      "\n"
     ]
    }
   ],
   "source": [
    "model = RandomForestClassifier(n_estimators = 100, random_state=0)\n",
    "show_metrics('\"Случайный лес\"', model)"
   ]
  },
  {
   "cell_type": "markdown",
   "metadata": {},
   "source": [
    "#### Задача 4. Оценка метрики accuracy, precision и recall для обеих моделей на валидационной выборке. Сравнение по ним моделей. Выбор лучшей.\n",
    "<a id=\"4\"></a> "
   ]
  },
  {
   "cell_type": "markdown",
   "metadata": {},
   "source": [
    "**ВЫВОД:** По параметру accuracy \"Логистическая регрессия\" немного выигрывает у \"Случайный лес\" (0,922 против 0,915), по precision тоже \"Логистическая регрессия\" немного лучше (0,854 проитив 0,839) и также немного лучше по recall (0,828 против 0,813). Таким образом, по всем параметрам \"Логистическая регрессия\" дает результат немного лучше чем \"Случайный лес\", при этом, нужно отметить, что обе модели имеют высокие показатели accuracy, precision и recall."
   ]
  },
  {
   "cell_type": "markdown",
   "metadata": {},
   "source": [
    "### ШАГ 4. КЛАСТЕРИЗАЦИЯ КЛИЕНТОВ\n",
    "<a id=\"part_4\"></a> "
   ]
  },
  {
   "cell_type": "markdown",
   "metadata": {},
   "source": [
    "#### Задача 1. Стандартизация данных.\n",
    "<a id=\"5\"></a> "
   ]
  },
  {
   "cell_type": "code",
   "execution_count": 18,
   "metadata": {},
   "outputs": [],
   "source": [
    "sc = StandardScaler()\n",
    "X_sc = sc.fit_transform(X)"
   ]
  },
  {
   "cell_type": "markdown",
   "metadata": {},
   "source": [
    "#### Задача 2. Построение матрицы расстояний функцией linkage() на стандартизованной матрице признаков и отрисовка дендрограммы.  \n",
    "<a id=\"6\"></a> "
   ]
  },
  {
   "cell_type": "code",
   "execution_count": 19,
   "metadata": {},
   "outputs": [
    {
     "data": {
      "image/png": "[encoded data removed]",
      "text/plain": [
       "<Figure size 1080x720 with 1 Axes>"
      ]
     },
     "metadata": {
      "needs_background": "light"
     },
     "output_type": "display_data"
    }
   ],
   "source": [
    "linked = linkage(X_sc, method = 'ward')\n",
    "plt.figure(figsize=(15, 10))  \n",
    "dendrogram(linked, orientation='top')\n",
    "plt.title('Hierarchial clustering for GYM')\n",
    "plt.show()"
   ]
  },
  {
   "cell_type": "markdown",
   "metadata": {},
   "source": [
    "**Согласно построенной дендрограмме все данные можно разделить от 4 до 6 кластеров**"
   ]
  },
  {
   "cell_type": "markdown",
   "metadata": {},
   "source": [
    "#### Задача 3. Обучение модели кластеризации на основании алгоритма K-Means и прогнозирование кластеров клиентов.\n",
    "<a id=\"7\"></a> "
   ]
  },
  {
   "cell_type": "code",
   "execution_count": 20,
   "metadata": {},
   "outputs": [],
   "source": [
    "km = KMeans(n_clusters = 5, random_state=0) # задаём число кластеров, равное 5\n",
    "labels = km.fit_predict(X_sc) # применяем алгоритм к данным и формируем вектор кластеров"
   ]
  },
  {
   "cell_type": "code",
   "execution_count": 21,
   "metadata": {},
   "outputs": [],
   "source": [
    "gym['cluster_km'] = labels"
   ]
  },
  {
   "cell_type": "code",
   "execution_count": 31,
   "metadata": {},
   "outputs": [
    {
     "data": {
      "text/plain": [
       "cluster_km\n",
       "0    1010\n",
       "1     385\n",
       "2     505\n",
       "3    1262\n",
       "4     838\n",
       "Name: gender, dtype: int64"
      ]
     },
     "execution_count": 31,
     "metadata": {},
     "output_type": "execute_result"
    }
   ],
   "source": [
    "# сгуппируем клиентов по кластерам\n",
    "gym.groupby(['cluster_km'])['gender'].count()"
   ]
  },
  {
   "cell_type": "markdown",
   "metadata": {},
   "source": [
    "**В кластерах количество клиентов различается от 385 до 1262**"
   ]
  },
  {
   "cell_type": "code",
   "execution_count": 23,
   "metadata": {},
   "outputs": [
    {
     "name": "stdout",
     "output_type": "stream",
     "text": [
      "Silhouette_score: 0.14\n"
     ]
    }
   ],
   "source": [
    "# расчет метрики силуэта\n",
    "print('Silhouette_score: {:.2f}'.format(silhouette_score(X_sc, labels)))"
   ]
  },
  {
   "cell_type": "markdown",
   "metadata": {},
   "source": [
    "**Кластерная структура выражена плохо, количество кластеров не в лучшей мере соответствует естественной группировке данных**"
   ]
  },
  {
   "cell_type": "markdown",
   "metadata": {},
   "source": [
    "#### Задача 4. Изучение средних значений признаков для кластеров. Можно ли сразу что-то заметить?\n",
    "<a id=\"8\"></a> "
   ]
  },
  {
   "cell_type": "code",
   "execution_count": 24,
   "metadata": {},
   "outputs": [
    {
     "data": {
      "text/html": [
       "<div>\n",
       "<style scoped>\n",
       "    .dataframe tbody tr th:only-of-type {\n",
       "        vertical-align: middle;\n",
       "    }\n",
       "\n",
       "    .dataframe tbody tr th {\n",
       "        vertical-align: top;\n",
       "    }\n",
       "\n",
       "    .dataframe thead th {\n",
       "        text-align: right;\n",
       "    }\n",
       "</style>\n",
       "<table border=\"1\" class=\"dataframe\">\n",
       "  <thead>\n",
       "    <tr style=\"text-align: right;\">\n",
       "      <th>cluster_km</th>\n",
       "      <th>0</th>\n",
       "      <th>1</th>\n",
       "      <th>2</th>\n",
       "      <th>3</th>\n",
       "      <th>4</th>\n",
       "    </tr>\n",
       "  </thead>\n",
       "  <tbody>\n",
       "    <tr>\n",
       "      <th>gender</th>\n",
       "      <td>0.502970</td>\n",
       "      <td>0.522078</td>\n",
       "      <td>0.495050</td>\n",
       "      <td>0.485737</td>\n",
       "      <td>0.559666</td>\n",
       "    </tr>\n",
       "    <tr>\n",
       "      <th>near_location</th>\n",
       "      <td>0.959406</td>\n",
       "      <td>0.862338</td>\n",
       "      <td>0.000000</td>\n",
       "      <td>1.000000</td>\n",
       "      <td>0.976134</td>\n",
       "    </tr>\n",
       "    <tr>\n",
       "      <th>partner</th>\n",
       "      <td>0.783168</td>\n",
       "      <td>0.470130</td>\n",
       "      <td>0.463366</td>\n",
       "      <td>0.350238</td>\n",
       "      <td>0.356802</td>\n",
       "    </tr>\n",
       "    <tr>\n",
       "      <th>promo_friends</th>\n",
       "      <td>0.574257</td>\n",
       "      <td>0.306494</td>\n",
       "      <td>0.079208</td>\n",
       "      <td>0.240095</td>\n",
       "      <td>0.230310</td>\n",
       "    </tr>\n",
       "    <tr>\n",
       "      <th>phone</th>\n",
       "      <td>1.000000</td>\n",
       "      <td>0.000000</td>\n",
       "      <td>1.000000</td>\n",
       "      <td>1.000000</td>\n",
       "      <td>0.998807</td>\n",
       "    </tr>\n",
       "    <tr>\n",
       "      <th>contract_period</th>\n",
       "      <td>10.889109</td>\n",
       "      <td>4.787013</td>\n",
       "      <td>2.352475</td>\n",
       "      <td>1.948494</td>\n",
       "      <td>2.669451</td>\n",
       "    </tr>\n",
       "    <tr>\n",
       "      <th>group_visits</th>\n",
       "      <td>0.542574</td>\n",
       "      <td>0.425974</td>\n",
       "      <td>0.215842</td>\n",
       "      <td>0.341521</td>\n",
       "      <td>0.473747</td>\n",
       "    </tr>\n",
       "    <tr>\n",
       "      <th>age</th>\n",
       "      <td>29.982178</td>\n",
       "      <td>29.301299</td>\n",
       "      <td>28.477228</td>\n",
       "      <td>28.167987</td>\n",
       "      <td>30.125298</td>\n",
       "    </tr>\n",
       "    <tr>\n",
       "      <th>avg_additional_charges_total</th>\n",
       "      <td>160.761016</td>\n",
       "      <td>143.957664</td>\n",
       "      <td>135.457501</td>\n",
       "      <td>131.622204</td>\n",
       "      <td>161.657905</td>\n",
       "    </tr>\n",
       "    <tr>\n",
       "      <th>month_to_end_contract</th>\n",
       "      <td>9.954455</td>\n",
       "      <td>4.475325</td>\n",
       "      <td>2.198020</td>\n",
       "      <td>1.856577</td>\n",
       "      <td>2.459427</td>\n",
       "    </tr>\n",
       "    <tr>\n",
       "      <th>lifetime</th>\n",
       "      <td>4.736634</td>\n",
       "      <td>3.924675</td>\n",
       "      <td>2.809901</td>\n",
       "      <td>2.440571</td>\n",
       "      <td>4.898568</td>\n",
       "    </tr>\n",
       "    <tr>\n",
       "      <th>avg_class_frequency_total</th>\n",
       "      <td>1.982055</td>\n",
       "      <td>1.847220</td>\n",
       "      <td>1.660461</td>\n",
       "      <td>1.247634</td>\n",
       "      <td>2.852002</td>\n",
       "    </tr>\n",
       "    <tr>\n",
       "      <th>avg_class_frequency_current_month</th>\n",
       "      <td>1.974789</td>\n",
       "      <td>1.716369</td>\n",
       "      <td>1.477324</td>\n",
       "      <td>1.012983</td>\n",
       "      <td>2.850161</td>\n",
       "    </tr>\n",
       "  </tbody>\n",
       "</table>\n",
       "</div>"
      ],
      "text/plain": [
       "cluster_km                                  0           1           2  \\\n",
       "gender                               0.502970    0.522078    0.495050   \n",
       "near_location                        0.959406    0.862338    0.000000   \n",
       "partner                              0.783168    0.470130    0.463366   \n",
       "promo_friends                        0.574257    0.306494    0.079208   \n",
       "phone                                1.000000    0.000000    1.000000   \n",
       "contract_period                     10.889109    4.787013    2.352475   \n",
       "group_visits                         0.542574    0.425974    0.215842   \n",
       "age                                 29.982178   29.301299   28.477228   \n",
       "avg_additional_charges_total       160.761016  143.957664  135.457501   \n",
       "month_to_end_contract                9.954455    4.475325    2.198020   \n",
       "lifetime                             4.736634    3.924675    2.809901   \n",
       "avg_class_frequency_total            1.982055    1.847220    1.660461   \n",
       "avg_class_frequency_current_month    1.974789    1.716369    1.477324   \n",
       "\n",
       "cluster_km                                  3           4  \n",
       "gender                               0.485737    0.559666  \n",
       "near_location                        1.000000    0.976134  \n",
       "partner                              0.350238    0.356802  \n",
       "promo_friends                        0.240095    0.230310  \n",
       "phone                                1.000000    0.998807  \n",
       "contract_period                      1.948494    2.669451  \n",
       "group_visits                         0.341521    0.473747  \n",
       "age                                 28.167987   30.125298  \n",
       "avg_additional_charges_total       131.622204  161.657905  \n",
       "month_to_end_contract                1.856577    2.459427  \n",
       "lifetime                             2.440571    4.898568  \n",
       "avg_class_frequency_total            1.247634    2.852002  \n",
       "avg_class_frequency_current_month    1.012983    2.850161  "
      ]
     },
     "execution_count": 24,
     "metadata": {},
     "output_type": "execute_result"
    }
   ],
   "source": [
    "gym.drop('churn', axis=1).groupby('cluster_km').mean().T"
   ]
  },
  {
   "cell_type": "code",
   "execution_count": 25,
   "metadata": {},
   "outputs": [
    {
     "data": {
      "text/plain": [
       "gender                                 0.510250\n",
       "near_location                          0.845250\n",
       "partner                                0.486750\n",
       "promo_friends                          0.308500\n",
       "phone                                  0.903500\n",
       "contract_period                        4.681250\n",
       "group_visits                           0.412250\n",
       "age                                   29.184250\n",
       "avg_additional_charges_total         146.943728\n",
       "month_to_end_contract                  4.322750\n",
       "lifetime                               3.724750\n",
       "avg_class_frequency_total              1.879020\n",
       "avg_class_frequency_current_month      1.767052\n",
       "dtype: float64"
      ]
     },
     "execution_count": 25,
     "metadata": {},
     "output_type": "execute_result"
    }
   ],
   "source": [
    "# расчет средних по признакам\n",
    "gym.drop(['cluster_km', 'churn'], axis=1).mean()"
   ]
  },
  {
   "cell_type": "markdown",
   "metadata": {},
   "source": [
    "**Признаки кластеров:**\n",
    "* **Кластер 0** (*клиенты, купившие абонемент на 12 мес по Промо -акции или Партнер-программе и проходившие еще немного.*): \"partner\" - высокий 78.3%, \"promo_friends\" - высокий 57.5%  \"contract_period\" - высокий 11 месяцев, \"month_to_end_contract\" - высокий - 10 месяцев\n",
    "* **Кластер 1** (*не оставившие номер телефона*)\n",
    "* **Кластер 2** (*клиенты, не близко живущие, среди которых большинство без промо-акции и мало склонные к групповым занятиям*): \"near_location\" = 0, \"promo_friends\" = 8%, \"group_visits\" = 21,6%\n",
    "* **Кластер 3** (*клиенты, посещающие зал около 1 раза в неделю*):\"avg_class_frequency_total\" = 1,25, \"avg_class_frequency_current_month\" = 1,01\n",
    "* **Кластер 4** (*любители фитнеса, посещают зал до 3 раз в неделю*):\"avg_class_frequency_total\" = 2,85, \"avg_class_frequency_current_month\" = 2,85"
   ]
  },
  {
   "cell_type": "markdown",
   "metadata": {},
   "source": [
    "#### Задача 5. Построение распределений признаков для кластеров. Можно ли что-то заметить по ним?\n",
    "<a id=\"9\"></a> "
   ]
  },
  {
   "cell_type": "code",
   "execution_count": 33,
   "metadata": {},
   "outputs": [
    {
     "data": {
      "image/png": "[encoded data removed]",
      "text/plain": [
       "<Figure size 432x216 with 1 Axes>"
      ]
     },
     "metadata": {
      "needs_background": "light"
     },
     "output_type": "display_data"
    },
    {
     "data": {
      "image/png": "[encoded data removed]",
      "text/plain": [
       "<Figure size 432x216 with 1 Axes>"
      ]
     },
     "metadata": {
      "needs_background": "light"
     },
     "output_type": "display_data"
    },
    {
     "data": {
      "image/png": "[encoded data removed]",
      "text/plain": [
       "<Figure size 432x216 with 1 Axes>"
      ]
     },
     "metadata": {
      "needs_background": "light"
     },
     "output_type": "display_data"
    },
    {
     "data": {
      "image/png": "[encoded data removed]",
      "text/plain": [
       "<Figure size 432x216 with 1 Axes>"
      ]
     },
     "metadata": {
      "needs_background": "light"
     },
     "output_type": "display_data"
    },
    {
     "data": {
      "image/png": "[encoded data removed]",
      "text/plain": [
       "<Figure size 432x216 with 1 Axes>"
      ]
     },
     "metadata": {
      "needs_background": "light"
     },
     "output_type": "display_data"
    },
    {
     "data": {
      "image/png": "[encoded data removed]",
      "text/plain": [
       "<Figure size 432x216 with 1 Axes>"
      ]
     },
     "metadata": {
      "needs_background": "light"
     },
     "output_type": "display_data"
    }
   ],
   "source": [
    "for i in features:\n",
    "    g = sns.displot(gym, x=gym[i], hue='cluster_km', palette=\"Set2\", kind='hist')\n",
    "    plt.title(f'{i}')\n",
    "    plt.ylabel(\"Количествово клиентов\")\n",
    "    plt.xlabel(\"\")\n",
    "    g.fig.set_figwidth(6)\n",
    "    g.fig.set_figheight(3)\n",
    "    g.fig.patch.set_linewidth(5)"
   ]
  },
  {
   "cell_type": "markdown",
   "metadata": {},
   "source": [
    "**особенности кластеров:**\n",
    "\n",
    "'gender' - нет ничего особенного\n",
    "'near_location' - живущие неблизко (кластер 2)\n",
    "'partner' - не партнеры (кластер 1 и 3), партнеры (кластер 0 и 4)\n",
    "'promo_friends' - не промо (кластер 1 и 3), промо (кластер 0 и 4)\n",
    "'phone' - не оставившие номера телефона (кластер 1)\n",
    "'group_visits' - не любители групповых занятий (кластер 3), любители (кластер 0)"
   ]
  },
  {
   "cell_type": "code",
   "execution_count": 34,
   "metadata": {},
   "outputs": [
    {
     "data": {
      "image/png": "[encoded data removed]",
      "text/plain": [
       "<Figure size 432x216 with 1 Axes>"
      ]
     },
     "metadata": {
      "needs_background": "light"
     },
     "output_type": "display_data"
    },
    {
     "data": {
      "image/png": "[encoded data removed]",
      "text/plain": [
       "<Figure size 432x216 with 1 Axes>"
      ]
     },
     "metadata": {
      "needs_background": "light"
     },
     "output_type": "display_data"
    },
    {
     "data": {
      "image/png": "[encoded data removed]",
      "text/plain": [
       "<Figure size 432x216 with 1 Axes>"
      ]
     },
     "metadata": {
      "needs_background": "light"
     },
     "output_type": "display_data"
    },
    {
     "data": {
      "image/png": "[encoded data removed]",
      "text/plain": [
       "<Figure size 432x216 with 1 Axes>"
      ]
     },
     "metadata": {
      "needs_background": "light"
     },
     "output_type": "display_data"
    },
    {
     "data": {
      "image/png": "[encoded data removed]",
      "text/plain": [
       "<Figure size 432x216 with 1 Axes>"
      ]
     },
     "metadata": {
      "needs_background": "light"
     },
     "output_type": "display_data"
    },
    {
     "data": {
      "image/png": "[encoded data removed]",
      "text/plain": [
       "<Figure size 432x216 with 1 Axes>"
      ]
     },
     "metadata": {
      "needs_background": "light"
     },
     "output_type": "display_data"
    },
    {
     "data": {
      "image/png": "[encoded data removed]",
      "text/plain": [
       "<Figure size 432x216 with 1 Axes>"
      ]
     },
     "metadata": {
      "needs_background": "light"
     },
     "output_type": "display_data"
    }
   ],
   "source": [
    "for i in features_1:\n",
    "    g = sns.displot(gym, x=gym[i], hue='cluster_km', palette=\"Set2\", kind='hist')\n",
    "    plt.title(f'{i}')\n",
    "    plt.ylabel(\"Количество клиентов\")\n",
    "    plt.xlabel(\"\")\n",
    "    g.fig.set_figwidth(6)\n",
    "    g.fig.set_figheight(3)\n",
    "    g.fig.patch.set_linewidth(5)"
   ]
  },
  {
   "cell_type": "markdown",
   "metadata": {},
   "source": [
    "**особенности кластеров:**\n",
    "'contract_period' - имеющие абонемент на 12 мес (кластер 0); 'age' - до 30 лет(кластер 3), после 30 лет (кластер 0); 'avg_additional_charges_total' - тратящие до 200 (кластер 3), свыше 200 (кластер 0); 'month_to_end_contract' - больше 6 мес осталось до окончания абонемента (кластер 0); 'lifetime' - ходили меньше 3 месяцев (кластер 3), больше 3 месяцев (кластер 0); 'avg_class_frequency_total' и 'avg_class_frequency_current_month ходят 1-2 раза в неделю (кластер 3), кластер 4 - больше 2 раз; "
   ]
  },
  {
   "cell_type": "markdown",
   "metadata": {},
   "source": [
    "#### Задача 6. Для каждого полученного кластера расчет доли оттока (методом groupby()). Отличаются ли они по доле оттока? Какие кластеры склонны к оттоку, а какие — надёжны?\n",
    "<a id=\"10\"></a> "
   ]
  },
  {
   "cell_type": "code",
   "execution_count": 39,
   "metadata": {},
   "outputs": [
    {
     "data": {
      "text/plain": [
       "cluster_km\n",
       "0     2.639020\n",
       "1     9.707823\n",
       "2    21.112158\n",
       "3    61.168709\n",
       "4     5.372290\n",
       "Name: churn, dtype: float64"
      ]
     },
     "metadata": {},
     "output_type": "display_data"
    }
   ],
   "source": [
    "outflow = gym.query('churn==1').groupby('cluster_km')['churn'].count() / gym.query('churn==1')['churn'].count()\n",
    "display(outflow*100)"
   ]
  },
  {
   "cell_type": "markdown",
   "metadata": {},
   "source": [
    "**Наибольший отток  из 3 кластера (61,2%). Самый маленький отток из 0 (2,64%) и 4 (5,37%) кластеров. Во 2 кластере, отток составил 21,1% (скорее всего из-за того, что клиенты живут неблизко).**"
   ]
  },
  {
   "cell_type": "markdown",
   "metadata": {},
   "source": [
    "**ВЫВОД:**\n",
    "* 1. Согласно построенной дендрограмме все данные можно разделить от 4 до 6 кластеров.\n",
    "* 2. Оценка разбивки на 5 кластеров показала, что кластерная структура выражена плохо, количество кластеров не в лучшей мере соответствует естественной группировке данных. В кластерах количество клиентов различается от 385 до 1262\n",
    "* 3. Признаки кластеров:\n",
    "  Кластер 0 (клиенты, купившие абонемент на 12 мес по Промо -акции или Партнер-программе и проходившие еще немного.): \"partner\" - высокий 78.3%, \"promo_friends\" - высокий 57.5% \"contract_period\" - высокий 11 месяцев, \"month_to_end_contract\" - высокий - 10 месяцев\n",
    "  Кластер 1 (не оставившие номер телефона)\n",
    "  Кластер 2 (клиенты, не близко живущие, среди которых большинство без промо-акции и мало склонные к групповым занятиям): \"near_location\" = 0, \"promo_friends\" = 8%, \"group_visits\" = 21,6%\n",
    "  Кластер 3 (клиенты, посещающие зал около 1 раза в неделю):\"avg_class_frequency_total\" = 1,25, \"avg_class_frequency_current_month\" = 1,01\n",
    "  Кластер 4 (любители фитнеса, посещают зал до 3 раз в неделю):\"avg_class_frequency_total\" = 2,85, \"avg_class_frequency_current_month\" = 2,85\n",
    "* 4. Построение распределений признаков для кластеров показало: 'gender' - нет ничего особенного 'near_location' - живущие неблизко (кластер 2) 'partner' - не партнеры (кластер 1 и 3), партнеры (кластер 0 и 4) 'promo_friends' - не промо (кластер 1 и 3), промо (кластер 0 и 4) 'phone' - не оставившие номера телефона (кластер 1) 'group_visits' - не любители групповых занятий (кластер 3), любители (кластер 0), 'contract_period' - имеющие абонемент на 12 мес (кластер 0); 'age' - до 30 лет(кластер 3), после 30 лет (кластер 0); 'avg_additional_charges_total' - тратящие до 200 (кластер 3), свыше 200 (кластер 0); 'month_to_end_contract' - больше 6 мес осталось до окончания абонемента (кластер 0); 'lifetime' - ходили меньше 3 месяцев (кластер 3), больше 3 месяцев (кластер 0); 'avg_class_frequency_total' и 'avg_class_frequency_current_month ходят 1-2 раза в неделю (кластер 3), кластер 4 - больше 2 раз;\n",
    "* 5. Наибольший отток из 3 кластера (61,2%). Самый маленький отток из 0 (2,64%) и 4 (5,37%) кластеров. Во 2 кластере, отток составил 21,1% (скорее всего из-за того, что клиенты живут неблизко)."
   ]
  },
  {
   "cell_type": "markdown",
   "metadata": {},
   "source": [
    "### ШАГ 5. ВЫВОДЫ И БАЗОВЫЕ РЕКОМЕНДАЦИИ ПО РАБОТЕ С КЛИЕНТАМИ\n",
    "<a id=\"part_5\"></a> "
   ]
  },
  {
   "cell_type": "markdown",
   "metadata": {},
   "source": [
    "**ВЫВОДЫ:**\n",
    "\n",
    "*Характеристики кластеров*\n",
    "* Кластер 0 (1010 человек) - отток всего 2,64 %: (срок абонемента 12 мес, используют Промо-акцию или Партнер-программу, проходили  больше 2 месяцев, ходят 2-3 раза в неделю, им больше 30 лет, тратят на допуслуги свыше 200,  осталось 6 мес и больше от абонемента, любят групповые занятия)\n",
    "\n",
    "* Кластер 1 (385) - доля оттока около 10 %: не оставившие телефон\n",
    "\n",
    "* Кластер 2 (505)- доля оттока 21,1%: (живут не близко, пришли без промо-акции, мало склонны к групповым занятиям)\n",
    "\n",
    "* Кластер 3 (1262) - доля оттока 61,2%:(посещают 1 раз в неделю, проходили 2 месяца и менее, 30 лет и меньше, траты на допуслуги до 200, не является партнерами и без промо-акций, не любят групповые занятия)\n",
    "\n",
    "* Кластер 4 (838) - доля оттока 5,37% :(любят фитнес, ходят примерно 3 раз в неделю и больше)\n",
    "\n",
    "**БАЗОВЫЕ РЕКОМЕНДАЦИИ**:\n",
    "* Необходимо больше партнерский программ, промо-акций, бонусных программ, которые уменьшили бы стоимость долгосрочного абонемента;\n",
    "* Повышать заинтересованность в фитнесе с помощью расширения направлений занятий;\n",
    "* Для клиентов кластера 3 (тем, кому до 30 предлагать бонусные программы, чтобы сократить долю оттока)"
   ]
  }
 ],
 "metadata": {
  "ExecuteTimeLog": [
   {
    "duration": 109,
    "start_time": "2023-07-04T06:50:55.800Z"
   },
   {
    "duration": 58,
    "start_time": "2023-07-04T07:43:03.380Z"
   },
   {
    "duration": 416,
    "start_time": "2023-07-04T07:43:12.717Z"
   },
   {
    "duration": 187,
    "start_time": "2023-07-04T07:43:13.925Z"
   },
   {
    "duration": 63,
    "start_time": "2023-07-04T07:43:26.437Z"
   },
   {
    "duration": 71,
    "start_time": "2023-07-04T07:43:38.536Z"
   },
   {
    "duration": 58,
    "start_time": "2023-07-04T07:44:05.350Z"
   },
   {
    "duration": 13,
    "start_time": "2023-07-04T07:44:25.109Z"
   },
   {
    "duration": 43,
    "start_time": "2023-07-04T07:49:35.754Z"
   },
   {
    "duration": 50,
    "start_time": "2023-07-04T07:49:48.521Z"
   },
   {
    "duration": 12,
    "start_time": "2023-07-04T07:54:11.865Z"
   },
   {
    "duration": 468,
    "start_time": "2023-07-04T07:54:19.310Z"
   },
   {
    "duration": 68,
    "start_time": "2023-07-04T07:54:19.782Z"
   },
   {
    "duration": 27,
    "start_time": "2023-07-04T07:54:19.852Z"
   },
   {
    "duration": 134,
    "start_time": "2023-07-04T07:54:19.882Z"
   },
   {
    "duration": 0,
    "start_time": "2023-07-04T07:54:20.018Z"
   },
   {
    "duration": 4,
    "start_time": "2023-07-04T07:54:30.412Z"
   },
   {
    "duration": 8,
    "start_time": "2023-07-04T07:54:56.148Z"
   },
   {
    "duration": 51,
    "start_time": "2023-07-04T12:25:04.615Z"
   },
   {
    "duration": 409,
    "start_time": "2023-07-04T12:25:11.514Z"
   },
   {
    "duration": 146,
    "start_time": "2023-07-04T12:25:11.925Z"
   },
   {
    "duration": 12,
    "start_time": "2023-07-04T12:25:12.072Z"
   },
   {
    "duration": 13,
    "start_time": "2023-07-04T12:25:12.086Z"
   },
   {
    "duration": 38,
    "start_time": "2023-07-04T12:25:12.100Z"
   },
   {
    "duration": 60,
    "start_time": "2023-07-04T12:25:12.140Z"
   },
   {
    "duration": 8,
    "start_time": "2023-07-04T12:26:05.148Z"
   },
   {
    "duration": 11,
    "start_time": "2023-07-04T12:26:27.734Z"
   },
   {
    "duration": 13,
    "start_time": "2023-07-04T12:27:06.110Z"
   },
   {
    "duration": 44,
    "start_time": "2023-07-04T12:31:34.601Z"
   },
   {
    "duration": 66,
    "start_time": "2023-07-04T13:05:10.011Z"
   },
   {
    "duration": 9,
    "start_time": "2023-07-04T13:05:33.315Z"
   },
   {
    "duration": 8,
    "start_time": "2023-07-04T13:06:45.114Z"
   },
   {
    "duration": 8,
    "start_time": "2023-07-04T13:28:18.837Z"
   },
   {
    "duration": 7,
    "start_time": "2023-07-04T13:28:28.206Z"
   },
   {
    "duration": 25,
    "start_time": "2023-07-04T13:28:47.259Z"
   },
   {
    "duration": 66,
    "start_time": "2023-07-05T10:51:10.547Z"
   },
   {
    "duration": 867,
    "start_time": "2023-07-05T10:51:44.907Z"
   },
   {
    "duration": 87,
    "start_time": "2023-07-05T10:51:45.776Z"
   },
   {
    "duration": 14,
    "start_time": "2023-07-05T10:51:45.865Z"
   },
   {
    "duration": 6,
    "start_time": "2023-07-05T10:51:45.881Z"
   },
   {
    "duration": 18,
    "start_time": "2023-07-05T10:51:45.889Z"
   },
   {
    "duration": 13,
    "start_time": "2023-07-05T10:51:45.908Z"
   },
   {
    "duration": 8,
    "start_time": "2023-07-05T10:51:45.923Z"
   },
   {
    "duration": 49,
    "start_time": "2023-07-05T10:51:45.934Z"
   },
   {
    "duration": 22,
    "start_time": "2023-07-05T10:51:46.001Z"
   },
   {
    "duration": 794,
    "start_time": "2023-07-05T10:51:46.025Z"
   },
   {
    "duration": 1198,
    "start_time": "2023-07-05T10:52:08.724Z"
   },
   {
    "duration": 49,
    "start_time": "2023-07-05T10:52:09.924Z"
   },
   {
    "duration": 12,
    "start_time": "2023-07-05T10:52:09.974Z"
   },
   {
    "duration": 12,
    "start_time": "2023-07-05T10:52:09.987Z"
   },
   {
    "duration": 41,
    "start_time": "2023-07-05T10:52:10.001Z"
   },
   {
    "duration": 37,
    "start_time": "2023-07-05T10:52:10.044Z"
   },
   {
    "duration": 24,
    "start_time": "2023-07-05T10:52:10.082Z"
   },
   {
    "duration": 68,
    "start_time": "2023-07-05T10:52:10.107Z"
   },
   {
    "duration": 16,
    "start_time": "2023-07-05T10:52:10.176Z"
   },
   {
    "duration": 798,
    "start_time": "2023-07-05T10:52:10.194Z"
   },
   {
    "duration": 927,
    "start_time": "2023-07-05T10:52:48.611Z"
   },
   {
    "duration": 863,
    "start_time": "2023-07-05T10:53:12.656Z"
   },
   {
    "duration": 1049,
    "start_time": "2023-07-05T10:53:18.809Z"
   },
   {
    "duration": 798,
    "start_time": "2023-07-05T10:53:30.334Z"
   },
   {
    "duration": 1341,
    "start_time": "2023-07-05T10:54:01.406Z"
   },
   {
    "duration": 49,
    "start_time": "2023-07-05T10:54:02.749Z"
   },
   {
    "duration": 12,
    "start_time": "2023-07-05T10:54:02.800Z"
   },
   {
    "duration": 27,
    "start_time": "2023-07-05T10:54:02.814Z"
   },
   {
    "duration": 25,
    "start_time": "2023-07-05T10:54:02.844Z"
   },
   {
    "duration": 18,
    "start_time": "2023-07-05T10:54:02.870Z"
   },
   {
    "duration": 19,
    "start_time": "2023-07-05T10:54:02.890Z"
   },
   {
    "duration": 49,
    "start_time": "2023-07-05T10:54:02.911Z"
   },
   {
    "duration": 18,
    "start_time": "2023-07-05T10:54:02.962Z"
   },
   {
    "duration": 823,
    "start_time": "2023-07-05T10:54:02.982Z"
   },
   {
    "duration": 786,
    "start_time": "2023-07-05T10:54:20.400Z"
   },
   {
    "duration": 1020,
    "start_time": "2023-07-05T10:54:25.707Z"
   },
   {
    "duration": 903,
    "start_time": "2023-07-05T10:54:54.906Z"
   },
   {
    "duration": 921,
    "start_time": "2023-07-05T10:55:02.239Z"
   },
   {
    "duration": 734,
    "start_time": "2023-07-05T10:55:37.847Z"
   },
   {
    "duration": 1021,
    "start_time": "2023-07-05T10:55:43.572Z"
   },
   {
    "duration": 924,
    "start_time": "2023-07-05T10:55:56.805Z"
   },
   {
    "duration": 892,
    "start_time": "2023-07-05T10:57:04.573Z"
   },
   {
    "duration": 1018,
    "start_time": "2023-07-05T10:57:16.810Z"
   },
   {
    "duration": 924,
    "start_time": "2023-07-05T10:57:27.287Z"
   },
   {
    "duration": 954,
    "start_time": "2023-07-05T11:07:23.942Z"
   },
   {
    "duration": 1074,
    "start_time": "2023-07-05T11:07:34.200Z"
   },
   {
    "duration": 1141,
    "start_time": "2023-07-05T11:12:36.260Z"
   },
   {
    "duration": 1061,
    "start_time": "2023-07-05T11:12:49.813Z"
   },
   {
    "duration": 1048,
    "start_time": "2023-07-05T11:13:01.520Z"
   },
   {
    "duration": 659,
    "start_time": "2023-07-05T11:13:33.740Z"
   },
   {
    "duration": 718,
    "start_time": "2023-07-05T11:13:45.164Z"
   },
   {
    "duration": 575,
    "start_time": "2023-07-05T11:13:53.989Z"
   },
   {
    "duration": 987,
    "start_time": "2023-07-05T11:14:09.501Z"
   },
   {
    "duration": 904,
    "start_time": "2023-07-05T11:14:17.747Z"
   },
   {
    "duration": 967,
    "start_time": "2023-07-05T11:14:26.181Z"
   },
   {
    "duration": 1015,
    "start_time": "2023-07-05T11:14:37.587Z"
   },
   {
    "duration": 1062,
    "start_time": "2023-07-05T11:16:55.352Z"
   },
   {
    "duration": 963,
    "start_time": "2023-07-05T11:17:39.210Z"
   },
   {
    "duration": 1315,
    "start_time": "2023-07-05T11:17:47.145Z"
   },
   {
    "duration": 1243,
    "start_time": "2023-07-05T11:18:58.617Z"
   },
   {
    "duration": 62,
    "start_time": "2023-07-05T11:18:59.862Z"
   },
   {
    "duration": 18,
    "start_time": "2023-07-05T11:18:59.926Z"
   },
   {
    "duration": 8,
    "start_time": "2023-07-05T11:18:59.947Z"
   },
   {
    "duration": 16,
    "start_time": "2023-07-05T11:18:59.956Z"
   },
   {
    "duration": 37,
    "start_time": "2023-07-05T11:18:59.974Z"
   },
   {
    "duration": 59,
    "start_time": "2023-07-05T11:19:00.012Z"
   },
   {
    "duration": 57,
    "start_time": "2023-07-05T11:19:00.074Z"
   },
   {
    "duration": 18,
    "start_time": "2023-07-05T11:19:00.133Z"
   },
   {
    "duration": 990,
    "start_time": "2023-07-05T11:19:00.154Z"
   },
   {
    "duration": 763,
    "start_time": "2023-07-05T11:19:17.765Z"
   },
   {
    "duration": 1003,
    "start_time": "2023-07-05T11:19:28.746Z"
   },
   {
    "duration": 46,
    "start_time": "2023-07-05T13:44:42.836Z"
   },
   {
    "duration": 1466,
    "start_time": "2023-07-05T13:44:50.249Z"
   },
   {
    "duration": 83,
    "start_time": "2023-07-05T13:44:51.718Z"
   },
   {
    "duration": 10,
    "start_time": "2023-07-05T13:44:51.805Z"
   },
   {
    "duration": 17,
    "start_time": "2023-07-05T13:44:51.817Z"
   },
   {
    "duration": 61,
    "start_time": "2023-07-05T13:44:51.836Z"
   },
   {
    "duration": 15,
    "start_time": "2023-07-05T13:44:51.899Z"
   },
   {
    "duration": 22,
    "start_time": "2023-07-05T13:44:51.915Z"
   },
   {
    "duration": 72,
    "start_time": "2023-07-05T13:44:51.939Z"
   },
   {
    "duration": 14,
    "start_time": "2023-07-05T13:44:52.013Z"
   },
   {
    "duration": 936,
    "start_time": "2023-07-05T13:44:52.028Z"
   },
   {
    "duration": 869,
    "start_time": "2023-07-05T13:50:12.044Z"
   },
   {
    "duration": 67,
    "start_time": "2023-07-06T10:35:33.514Z"
   },
   {
    "duration": 1787,
    "start_time": "2023-07-06T10:35:47.907Z"
   },
   {
    "duration": 166,
    "start_time": "2023-07-06T10:35:49.697Z"
   },
   {
    "duration": 21,
    "start_time": "2023-07-06T10:35:49.865Z"
   },
   {
    "duration": 8,
    "start_time": "2023-07-06T10:35:49.897Z"
   },
   {
    "duration": 13,
    "start_time": "2023-07-06T10:35:49.908Z"
   },
   {
    "duration": 21,
    "start_time": "2023-07-06T10:35:49.924Z"
   },
   {
    "duration": 27,
    "start_time": "2023-07-06T10:35:49.950Z"
   },
   {
    "duration": 88,
    "start_time": "2023-07-06T10:35:49.987Z"
   },
   {
    "duration": 32,
    "start_time": "2023-07-06T10:35:50.080Z"
   },
   {
    "duration": 1372,
    "start_time": "2023-07-06T10:35:50.116Z"
   },
   {
    "duration": 1586,
    "start_time": "2023-07-06T10:38:07.236Z"
   },
   {
    "duration": 10,
    "start_time": "2023-07-06T10:38:19.502Z"
   },
   {
    "duration": 1156,
    "start_time": "2023-07-06T10:54:46.653Z"
   },
   {
    "duration": 1267,
    "start_time": "2023-07-06T10:55:06.448Z"
   },
   {
    "duration": 1126,
    "start_time": "2023-07-06T10:55:26.598Z"
   },
   {
    "duration": 2015,
    "start_time": "2023-07-06T10:55:33.991Z"
   },
   {
    "duration": 1868,
    "start_time": "2023-07-06T10:56:04.098Z"
   },
   {
    "duration": 1382,
    "start_time": "2023-07-06T10:56:16.164Z"
   },
   {
    "duration": 2062,
    "start_time": "2023-07-06T10:57:21.391Z"
   },
   {
    "duration": 2019,
    "start_time": "2023-07-06T10:57:30.127Z"
   },
   {
    "duration": 1962,
    "start_time": "2023-07-06T11:10:58.322Z"
   },
   {
    "duration": 1941,
    "start_time": "2023-07-06T11:23:36.594Z"
   },
   {
    "duration": 2203,
    "start_time": "2023-07-06T11:23:51.096Z"
   },
   {
    "duration": 4,
    "start_time": "2023-07-06T11:25:56.862Z"
   },
   {
    "duration": 20,
    "start_time": "2023-07-06T11:26:49.962Z"
   },
   {
    "duration": 486,
    "start_time": "2023-07-06T11:27:45.926Z"
   },
   {
    "duration": 1376,
    "start_time": "2023-07-06T11:27:53.022Z"
   },
   {
    "duration": 171,
    "start_time": "2023-07-06T11:27:54.403Z"
   },
   {
    "duration": 19,
    "start_time": "2023-07-06T11:27:54.576Z"
   },
   {
    "duration": 11,
    "start_time": "2023-07-06T11:27:54.599Z"
   },
   {
    "duration": 19,
    "start_time": "2023-07-06T11:27:54.612Z"
   },
   {
    "duration": 18,
    "start_time": "2023-07-06T11:27:54.633Z"
   },
   {
    "duration": 42,
    "start_time": "2023-07-06T11:27:54.653Z"
   },
   {
    "duration": 56,
    "start_time": "2023-07-06T11:27:54.706Z"
   },
   {
    "duration": 22,
    "start_time": "2023-07-06T11:27:54.764Z"
   },
   {
    "duration": 1025,
    "start_time": "2023-07-06T11:27:54.789Z"
   },
   {
    "duration": 1792,
    "start_time": "2023-07-06T11:27:55.816Z"
   },
   {
    "duration": 1943,
    "start_time": "2023-07-06T11:27:57.610Z"
   },
   {
    "duration": 360,
    "start_time": "2023-07-06T11:27:59.555Z"
   },
   {
    "duration": 4,
    "start_time": "2023-07-06T11:27:59.917Z"
   },
   {
    "duration": 17,
    "start_time": "2023-07-06T11:27:59.923Z"
   },
   {
    "duration": 690,
    "start_time": "2023-07-06T11:30:34.016Z"
   },
   {
    "duration": 91,
    "start_time": "2023-07-06T11:30:36.958Z"
   },
   {
    "duration": 437,
    "start_time": "2023-07-06T11:30:50.323Z"
   },
   {
    "duration": 12,
    "start_time": "2023-07-06T11:36:54.198Z"
   },
   {
    "duration": 1385,
    "start_time": "2023-07-06T11:39:20.372Z"
   },
   {
    "duration": 58,
    "start_time": "2023-07-06T11:39:21.759Z"
   },
   {
    "duration": 15,
    "start_time": "2023-07-06T11:39:21.819Z"
   },
   {
    "duration": 5,
    "start_time": "2023-07-06T11:39:21.836Z"
   },
   {
    "duration": 60,
    "start_time": "2023-07-06T11:39:21.844Z"
   },
   {
    "duration": 16,
    "start_time": "2023-07-06T11:39:21.907Z"
   },
   {
    "duration": 12,
    "start_time": "2023-07-06T11:39:21.925Z"
   },
   {
    "duration": 59,
    "start_time": "2023-07-06T11:39:21.940Z"
   },
   {
    "duration": 21,
    "start_time": "2023-07-06T11:39:22.002Z"
   },
   {
    "duration": 1182,
    "start_time": "2023-07-06T11:39:22.027Z"
   },
   {
    "duration": 1962,
    "start_time": "2023-07-06T11:39:23.212Z"
   },
   {
    "duration": 1943,
    "start_time": "2023-07-06T11:39:25.178Z"
   },
   {
    "duration": 391,
    "start_time": "2023-07-06T11:39:27.124Z"
   },
   {
    "duration": 5,
    "start_time": "2023-07-06T11:39:27.517Z"
   },
   {
    "duration": 19,
    "start_time": "2023-07-06T11:39:27.524Z"
   },
   {
    "duration": 749,
    "start_time": "2023-07-06T11:39:27.545Z"
   },
   {
    "duration": 522,
    "start_time": "2023-07-06T11:39:28.369Z"
   },
   {
    "duration": 12,
    "start_time": "2023-07-06T11:39:28.893Z"
   },
   {
    "duration": 138310,
    "start_time": "2023-07-06T11:39:28.907Z"
   },
   {
    "duration": 1151,
    "start_time": "2023-07-06T11:42:17.730Z"
   },
   {
    "duration": 4,
    "start_time": "2023-07-06T11:43:26.335Z"
   },
   {
    "duration": 8,
    "start_time": "2023-07-06T11:43:49.798Z"
   },
   {
    "duration": 439,
    "start_time": "2023-07-06T11:44:59.249Z"
   },
   {
    "duration": 22,
    "start_time": "2023-07-06T11:46:43.695Z"
   },
   {
    "duration": 12,
    "start_time": "2023-07-06T11:47:10.850Z"
   },
   {
    "duration": 178,
    "start_time": "2023-07-06T11:49:14.522Z"
   },
   {
    "duration": 847,
    "start_time": "2023-07-06T11:49:33.042Z"
   },
   {
    "duration": 5675,
    "start_time": "2023-07-06T11:49:41.730Z"
   },
   {
    "duration": 5375,
    "start_time": "2023-07-06T11:50:09.572Z"
   },
   {
    "duration": 4752,
    "start_time": "2023-07-06T11:50:27.557Z"
   },
   {
    "duration": 8141,
    "start_time": "2023-07-06T11:53:14.358Z"
   },
   {
    "duration": 7712,
    "start_time": "2023-07-06T11:53:42.877Z"
   },
   {
    "duration": 486,
    "start_time": "2023-07-06T14:01:07.003Z"
   },
   {
    "duration": 50,
    "start_time": "2023-07-06T14:01:39.011Z"
   },
   {
    "duration": 1562,
    "start_time": "2023-07-06T14:01:51.217Z"
   },
   {
    "duration": 94,
    "start_time": "2023-07-06T14:01:52.782Z"
   },
   {
    "duration": 14,
    "start_time": "2023-07-06T14:01:52.879Z"
   },
   {
    "duration": 5,
    "start_time": "2023-07-06T14:01:52.896Z"
   },
   {
    "duration": 15,
    "start_time": "2023-07-06T14:01:52.904Z"
   },
   {
    "duration": 32,
    "start_time": "2023-07-06T14:01:52.921Z"
   },
   {
    "duration": 19,
    "start_time": "2023-07-06T14:01:52.956Z"
   },
   {
    "duration": 59,
    "start_time": "2023-07-06T14:01:52.977Z"
   },
   {
    "duration": 18,
    "start_time": "2023-07-06T14:01:53.038Z"
   },
   {
    "duration": 1114,
    "start_time": "2023-07-06T14:01:53.057Z"
   },
   {
    "duration": 1708,
    "start_time": "2023-07-06T14:01:54.173Z"
   },
   {
    "duration": 1755,
    "start_time": "2023-07-06T14:01:55.884Z"
   },
   {
    "duration": 353,
    "start_time": "2023-07-06T14:01:57.641Z"
   },
   {
    "duration": 5,
    "start_time": "2023-07-06T14:01:57.997Z"
   },
   {
    "duration": 45,
    "start_time": "2023-07-06T14:01:58.004Z"
   },
   {
    "duration": 159,
    "start_time": "2023-07-06T14:01:58.051Z"
   },
   {
    "duration": 488,
    "start_time": "2023-07-06T14:01:58.212Z"
   },
   {
    "duration": 12,
    "start_time": "2023-07-06T14:01:58.703Z"
   },
   {
    "duration": 125715,
    "start_time": "2023-07-06T14:01:58.717Z"
   },
   {
    "duration": 1199,
    "start_time": "2023-07-06T14:04:04.434Z"
   },
   {
    "duration": 71,
    "start_time": "2023-07-06T14:04:05.638Z"
   },
   {
    "duration": 42,
    "start_time": "2023-07-06T14:04:05.711Z"
   },
   {
    "duration": 509,
    "start_time": "2023-07-06T14:04:05.755Z"
   },
   {
    "duration": 39,
    "start_time": "2023-07-06T14:04:06.266Z"
   },
   {
    "duration": 11,
    "start_time": "2023-07-06T14:04:06.307Z"
   },
   {
    "duration": 5204,
    "start_time": "2023-07-06T14:04:06.320Z"
   },
   {
    "duration": 7176,
    "start_time": "2023-07-06T14:04:11.526Z"
   },
   {
    "duration": 4932,
    "start_time": "2023-07-06T14:04:48.033Z"
   },
   {
    "duration": 8023,
    "start_time": "2023-07-06T14:05:13.207Z"
   },
   {
    "duration": 4675,
    "start_time": "2023-07-06T14:07:28.048Z"
   },
   {
    "duration": 6808,
    "start_time": "2023-07-06T14:07:58.402Z"
   },
   {
    "duration": 7446,
    "start_time": "2023-07-06T14:09:14.951Z"
   },
   {
    "duration": 7180,
    "start_time": "2023-07-06T14:09:40.339Z"
   },
   {
    "duration": 5377,
    "start_time": "2023-07-06T14:11:20.707Z"
   },
   {
    "duration": 5457,
    "start_time": "2023-07-06T14:12:00.467Z"
   },
   {
    "duration": 5804,
    "start_time": "2023-07-06T14:16:31.559Z"
   },
   {
    "duration": 4696,
    "start_time": "2023-07-06T14:17:28.170Z"
   },
   {
    "duration": 8059,
    "start_time": "2023-07-06T14:37:49.421Z"
   },
   {
    "duration": 7747,
    "start_time": "2023-07-06T14:39:03.654Z"
   },
   {
    "duration": 7732,
    "start_time": "2023-07-06T14:40:38.841Z"
   },
   {
    "duration": 7726,
    "start_time": "2023-07-06T14:41:04.422Z"
   },
   {
    "duration": 7543,
    "start_time": "2023-07-06T14:41:22.740Z"
   },
   {
    "duration": 7013,
    "start_time": "2023-07-06T14:41:44.647Z"
   },
   {
    "duration": 1429,
    "start_time": "2023-07-07T10:45:56.870Z"
   },
   {
    "duration": 88,
    "start_time": "2023-07-07T10:45:58.301Z"
   },
   {
    "duration": 12,
    "start_time": "2023-07-07T10:45:58.391Z"
   },
   {
    "duration": 6,
    "start_time": "2023-07-07T10:45:58.406Z"
   },
   {
    "duration": 12,
    "start_time": "2023-07-07T10:45:58.414Z"
   },
   {
    "duration": 13,
    "start_time": "2023-07-07T10:45:58.428Z"
   },
   {
    "duration": 7,
    "start_time": "2023-07-07T10:45:58.443Z"
   },
   {
    "duration": 72,
    "start_time": "2023-07-07T10:45:58.452Z"
   },
   {
    "duration": 17,
    "start_time": "2023-07-07T10:45:58.525Z"
   },
   {
    "duration": 1016,
    "start_time": "2023-07-07T10:45:58.545Z"
   },
   {
    "duration": 1692,
    "start_time": "2023-07-07T10:45:59.562Z"
   },
   {
    "duration": 1563,
    "start_time": "2023-07-07T10:46:01.256Z"
   },
   {
    "duration": 313,
    "start_time": "2023-07-07T10:46:02.821Z"
   },
   {
    "duration": 4,
    "start_time": "2023-07-07T10:46:03.136Z"
   },
   {
    "duration": 35,
    "start_time": "2023-07-07T10:46:03.142Z"
   },
   {
    "duration": 224,
    "start_time": "2023-07-07T10:46:03.179Z"
   },
   {
    "duration": 479,
    "start_time": "2023-07-07T10:46:03.404Z"
   },
   {
    "duration": 17,
    "start_time": "2023-07-07T10:46:03.885Z"
   },
   {
    "duration": 1346,
    "start_time": "2023-07-07T10:46:38.978Z"
   },
   {
    "duration": 51,
    "start_time": "2023-07-07T10:46:40.326Z"
   },
   {
    "duration": 15,
    "start_time": "2023-07-07T10:46:40.379Z"
   },
   {
    "duration": 8,
    "start_time": "2023-07-07T10:46:40.398Z"
   },
   {
    "duration": 12,
    "start_time": "2023-07-07T10:46:40.408Z"
   },
   {
    "duration": 46,
    "start_time": "2023-07-07T10:46:40.422Z"
   },
   {
    "duration": 13,
    "start_time": "2023-07-07T10:46:40.470Z"
   },
   {
    "duration": 85,
    "start_time": "2023-07-07T10:46:40.484Z"
   },
   {
    "duration": 23,
    "start_time": "2023-07-07T10:46:40.571Z"
   },
   {
    "duration": 998,
    "start_time": "2023-07-07T10:46:40.602Z"
   },
   {
    "duration": 1508,
    "start_time": "2023-07-07T10:46:41.602Z"
   },
   {
    "duration": 1642,
    "start_time": "2023-07-07T10:46:43.113Z"
   },
   {
    "duration": 307,
    "start_time": "2023-07-07T10:46:44.757Z"
   },
   {
    "duration": 6,
    "start_time": "2023-07-07T10:46:45.066Z"
   },
   {
    "duration": 51,
    "start_time": "2023-07-07T10:46:45.074Z"
   },
   {
    "duration": 85,
    "start_time": "2023-07-07T10:46:45.127Z"
   },
   {
    "duration": 473,
    "start_time": "2023-07-07T10:46:45.302Z"
   },
   {
    "duration": 9,
    "start_time": "2023-07-07T10:46:45.777Z"
   },
   {
    "duration": 118008,
    "start_time": "2023-07-07T10:46:45.788Z"
   },
   {
    "duration": 1300,
    "start_time": "2023-07-07T10:48:43.802Z"
   },
   {
    "duration": 3,
    "start_time": "2023-07-07T10:48:45.105Z"
   },
   {
    "duration": 20,
    "start_time": "2023-07-07T10:48:45.110Z"
   },
   {
    "duration": 576,
    "start_time": "2023-07-07T10:48:45.131Z"
   },
   {
    "duration": 17,
    "start_time": "2023-07-07T10:48:45.709Z"
   },
   {
    "duration": 7,
    "start_time": "2023-07-07T10:48:45.728Z"
   },
   {
    "duration": 4457,
    "start_time": "2023-07-07T10:48:45.737Z"
   },
   {
    "duration": 6460,
    "start_time": "2023-07-07T10:48:50.196Z"
   },
   {
    "duration": 6850,
    "start_time": "2023-07-07T10:50:31.478Z"
   },
   {
    "duration": 6774,
    "start_time": "2023-07-07T10:50:52.196Z"
   },
   {
    "duration": 4100,
    "start_time": "2023-07-07T10:51:10.277Z"
   },
   {
    "duration": 6,
    "start_time": "2023-07-07T10:56:04.349Z"
   },
   {
    "duration": 7972,
    "start_time": "2023-07-07T11:26:26.130Z"
   },
   {
    "duration": 5870,
    "start_time": "2023-07-07T11:26:48.889Z"
   },
   {
    "duration": 7843,
    "start_time": "2023-07-07T11:27:02.232Z"
   },
   {
    "duration": 125,
    "start_time": "2023-07-07T11:39:21.010Z"
   },
   {
    "duration": 21,
    "start_time": "2023-07-07T11:39:41.593Z"
   },
   {
    "duration": 349,
    "start_time": "2023-07-07T11:39:54.927Z"
   },
   {
    "duration": 12,
    "start_time": "2023-07-07T12:24:46.148Z"
   },
   {
    "duration": 13,
    "start_time": "2023-07-07T12:24:59.998Z"
   },
   {
    "duration": 1314,
    "start_time": "2023-07-08T12:09:20.600Z"
   },
   {
    "duration": 231,
    "start_time": "2023-07-08T12:09:22.163Z"
   },
   {
    "duration": 17,
    "start_time": "2023-07-08T12:09:24.334Z"
   }
  ],
  "kernelspec": {
   "display_name": "Python 3",
   "language": "python",
   "name": "python3"
  },
  "language_info": {
   "codemirror_mode": {
    "name": "ipython",
    "version": 3
   },
   "file_extension": ".py",
   "mimetype": "text/x-python",
   "name": "python",
   "nbconvert_exporter": "python",
   "pygments_lexer": "ipython3",
   "version": "3.8.5"
  },
  "toc": {
   "base_numbering": 1,
   "nav_menu": {},
   "number_sections": true,
   "sideBar": true,
   "skip_h1_title": true,
   "title_cell": "Table of Contents",
   "title_sidebar": "Contents",
   "toc_cell": false,
   "toc_position": {},
   "toc_section_display": true,
   "toc_window_display": false
  }
 },
 "nbformat": 4,
 "nbformat_minor": 2
}
